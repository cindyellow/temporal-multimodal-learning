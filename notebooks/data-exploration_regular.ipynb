{
 "cells": [
  {
   "cell_type": "markdown",
   "metadata": {},
   "source": [
    "# Data Exploration"
   ]
  },
  {
   "cell_type": "markdown",
   "metadata": {},
   "source": [
    "## Import libraries"
   ]
  },
  {
   "cell_type": "code",
   "execution_count": 2,
   "metadata": {},
   "outputs": [],
   "source": [
    "import pandas as pd\n",
    "import numpy as np\n",
    "import os\n",
    "import matplotlib.pyplot as plt\n",
    "import seaborn as sns\n",
    "import psycopg2\n",
    "import collections"
   ]
  },
  {
   "cell_type": "markdown",
   "metadata": {},
   "source": [
    "## Load datasets"
   ]
  },
  {
   "cell_type": "code",
   "execution_count": 4,
   "metadata": {},
   "outputs": [],
   "source": [
    "project_path = '../data'\n",
    "dataset_path = os.path.join(project_path, 'mimiciii')"
   ]
  },
  {
   "cell_type": "code",
   "execution_count": 3,
   "metadata": {},
   "outputs": [],
   "source": [
    "conn = psycopg2.connect(database = \"mimic\", \n",
    "                        user = \"postgres\", \n",
    "                        host= 'localhost',\n",
    "                        password = \"postgres\",\n",
    "                        port = 5432,\n",
    "                        options=\"--search_path=mimiciii\")"
   ]
  },
  {
   "cell_type": "code",
   "execution_count": 4,
   "metadata": {},
   "outputs": [],
   "source": [
    "cur = conn.cursor()\n",
    "cur.execute('SELECT count(subject_id) FROM patients')\n",
    "df = pd.DataFrame(cur.fetchall(), columns=[desc[0] for desc in cur.description])"
   ]
  },
  {
   "cell_type": "code",
   "execution_count": 5,
   "metadata": {},
   "outputs": [
    {
     "ename": "NameError",
     "evalue": "name 'df' is not defined",
     "output_type": "error",
     "traceback": [
      "\u001b[0;31m---------------------------------------------------------------------------\u001b[0m",
      "\u001b[0;31mNameError\u001b[0m                                 Traceback (most recent call last)",
      "Cell \u001b[0;32mIn[5], line 1\u001b[0m\n\u001b[0;32m----> 1\u001b[0m \u001b[43mdf\u001b[49m\u001b[38;5;241m.\u001b[39mhead()\n",
      "\u001b[0;31mNameError\u001b[0m: name 'df' is not defined"
     ]
    }
   ],
   "source": [
    "df.head()"
   ]
  },
  {
   "cell_type": "code",
   "execution_count": 6,
   "metadata": {},
   "outputs": [],
   "source": [
    "LABEL_SPLITS = pd.read_csv(os.path.join(dataset_path,\"LABEL_SPLITS.csv\"), dtype={\"ICD9_CODE\": str})\n",
    "# NOTEEVENTS = pd.read_csv(os.path.join(dataset_path,\"NOTEEVENTS.csv\"))\n",
    "LABEVENTS = pd.read_csv(os.path.join(dataset_path,\"LABEVENTS.csv\"))\n",
    "# OUTPUTEVENTS = pd.read_csv(os.path.join(dataset_path,\"OUTPUTEVENTS.csv\"))\n",
    "# CHARTEVENTS = pd.read_csv(os.path.join(dataset_path,\"CHARTEVENTS.csv\"))\n",
    "# CPTEVENTS = pd.read_csv(os.path.join(dataset_path,\"CPTEVENTS.csv\"))\n",
    "# MICROBIOLOGYEVENTS = pd.read_csv(os.path.join(dataset_path,\"MICROBIOLOGYEVENTS.csv\"))"
   ]
  },
  {
   "cell_type": "code",
   "execution_count": 7,
   "metadata": {},
   "outputs": [
    {
     "data": {
      "text/html": [
       "<div>\n",
       "<style scoped>\n",
       "    .dataframe tbody tr th:only-of-type {\n",
       "        vertical-align: middle;\n",
       "    }\n",
       "\n",
       "    .dataframe tbody tr th {\n",
       "        vertical-align: top;\n",
       "    }\n",
       "\n",
       "    .dataframe thead th {\n",
       "        text-align: right;\n",
       "    }\n",
       "</style>\n",
       "<table border=\"1\" class=\"dataframe\">\n",
       "  <thead>\n",
       "    <tr style=\"text-align: right;\">\n",
       "      <th></th>\n",
       "      <th>HADM_ID</th>\n",
       "      <th>SPLIT_50</th>\n",
       "      <th>ROW_ID</th>\n",
       "      <th>SUBJECT_ID</th>\n",
       "      <th>SEQ_NUM</th>\n",
       "      <th>ICD9_CODE</th>\n",
       "    </tr>\n",
       "  </thead>\n",
       "  <tbody>\n",
       "    <tr>\n",
       "      <th>0</th>\n",
       "      <td>182396</td>\n",
       "      <td>TRAIN</td>\n",
       "      <td>88642</td>\n",
       "      <td>7908</td>\n",
       "      <td>1.0</td>\n",
       "      <td>572.2</td>\n",
       "    </tr>\n",
       "    <tr>\n",
       "      <th>1</th>\n",
       "      <td>182396</td>\n",
       "      <td>TRAIN</td>\n",
       "      <td>88643</td>\n",
       "      <td>7908</td>\n",
       "      <td>2.0</td>\n",
       "      <td>038.49</td>\n",
       "    </tr>\n",
       "    <tr>\n",
       "      <th>2</th>\n",
       "      <td>182396</td>\n",
       "      <td>TRAIN</td>\n",
       "      <td>88644</td>\n",
       "      <td>7908</td>\n",
       "      <td>3.0</td>\n",
       "      <td>785.52</td>\n",
       "    </tr>\n",
       "    <tr>\n",
       "      <th>3</th>\n",
       "      <td>182396</td>\n",
       "      <td>TRAIN</td>\n",
       "      <td>88645</td>\n",
       "      <td>7908</td>\n",
       "      <td>4.0</td>\n",
       "      <td>584.9</td>\n",
       "    </tr>\n",
       "    <tr>\n",
       "      <th>4</th>\n",
       "      <td>182396</td>\n",
       "      <td>TRAIN</td>\n",
       "      <td>88646</td>\n",
       "      <td>7908</td>\n",
       "      <td>5.0</td>\n",
       "      <td>585</td>\n",
       "    </tr>\n",
       "  </tbody>\n",
       "</table>\n",
       "</div>"
      ],
      "text/plain": [
       "   HADM_ID SPLIT_50  ROW_ID  SUBJECT_ID  SEQ_NUM ICD9_CODE\n",
       "0   182396    TRAIN   88642        7908      1.0     572.2\n",
       "1   182396    TRAIN   88643        7908      2.0    038.49\n",
       "2   182396    TRAIN   88644        7908      3.0    785.52\n",
       "3   182396    TRAIN   88645        7908      4.0     584.9\n",
       "4   182396    TRAIN   88646        7908      5.0       585"
      ]
     },
     "execution_count": 7,
     "metadata": {},
     "output_type": "execute_result"
    }
   ],
   "source": [
    "LABEL_SPLITS.head()"
   ]
  },
  {
   "cell_type": "markdown",
   "metadata": {},
   "source": [
    "# Mimic III"
   ]
  },
  {
   "cell_type": "markdown",
   "metadata": {},
   "source": [
    "## Lab Tests\n",
    "### Summary statistics"
   ]
  },
  {
   "cell_type": "code",
   "execution_count": 42,
   "metadata": {},
   "outputs": [],
   "source": [
    "LABEVENTS = pd.read_csv(os.path.join(dataset_path,\"LABEVENTS.csv\"))\n",
    "D_LABITEMS = pd.read_csv(os.path.join(dataset_path,\"D_LABITEMS.csv\"))\n"
   ]
  },
  {
   "cell_type": "code",
   "execution_count": 71,
   "metadata": {},
   "outputs": [],
   "source": [
    "adm_lab = LABEVENTS.merge(D_LABITEMS.loc[:, ['ITEMID', 'LABEL', 'CATEGORY']], on='ITEMID', how='inner')\n",
    "adm_lab = adm_lab[adm_lab.HADM_ID.isna() == False]\n",
    "adm_lab = adm_lab[adm_lab.CHARTTIME.isna() == False]\n",
    "adm_lab[\"HADM_ID\"] = adm_lab[\"HADM_ID\"].apply(int)\n",
    "adm_lab[\"CHARTTIME\"] = pd.to_datetime(adm_lab.CHARTTIME)\n",
    "adm_lab = adm_lab.merge(LABEL_SPLITS, on='HADM_ID', how='inner')"
   ]
  },
  {
   "cell_type": "code",
   "execution_count": 72,
   "metadata": {},
   "outputs": [],
   "source": [
    "adm_lab = adm_lab.loc[adm_lab['SPLIT_50'] == 'TRAIN']"
   ]
  },
  {
   "cell_type": "code",
   "execution_count": 16,
   "metadata": {},
   "outputs": [
    {
     "data": {
      "text/html": [
       "<div>\n",
       "<style scoped>\n",
       "    .dataframe tbody tr th:only-of-type {\n",
       "        vertical-align: middle;\n",
       "    }\n",
       "\n",
       "    .dataframe tbody tr th {\n",
       "        vertical-align: top;\n",
       "    }\n",
       "\n",
       "    .dataframe thead th {\n",
       "        text-align: right;\n",
       "    }\n",
       "</style>\n",
       "<table border=\"1\" class=\"dataframe\">\n",
       "  <thead>\n",
       "    <tr style=\"text-align: right;\">\n",
       "      <th></th>\n",
       "      <th>LABEL</th>\n",
       "    </tr>\n",
       "  </thead>\n",
       "  <tbody>\n",
       "    <tr>\n",
       "      <th>count</th>\n",
       "      <td>7989.000000</td>\n",
       "    </tr>\n",
       "    <tr>\n",
       "      <th>mean</th>\n",
       "      <td>9845.660784</td>\n",
       "    </tr>\n",
       "    <tr>\n",
       "      <th>std</th>\n",
       "      <td>19276.111014</td>\n",
       "    </tr>\n",
       "    <tr>\n",
       "      <th>min</th>\n",
       "      <td>26.000000</td>\n",
       "    </tr>\n",
       "    <tr>\n",
       "      <th>25%</th>\n",
       "      <td>1872.000000</td>\n",
       "    </tr>\n",
       "    <tr>\n",
       "      <th>50%</th>\n",
       "      <td>4004.000000</td>\n",
       "    </tr>\n",
       "    <tr>\n",
       "      <th>75%</th>\n",
       "      <td>9380.000000</td>\n",
       "    </tr>\n",
       "    <tr>\n",
       "      <th>max</th>\n",
       "      <td>384995.000000</td>\n",
       "    </tr>\n",
       "  </tbody>\n",
       "</table>\n",
       "</div>"
      ],
      "text/plain": [
       "               LABEL\n",
       "count    7989.000000\n",
       "mean     9845.660784\n",
       "std     19276.111014\n",
       "min        26.000000\n",
       "25%      1872.000000\n",
       "50%      4004.000000\n",
       "75%      9380.000000\n",
       "max    384995.000000"
      ]
     },
     "execution_count": 16,
     "metadata": {},
     "output_type": "execute_result"
    }
   ],
   "source": [
    "# total num of lab tests conducted per admission\n",
    "adm_lab.groupby(['HADM_ID']).count().loc[:, ['LABEL']].describe()"
   ]
  },
  {
   "cell_type": "code",
   "execution_count": 29,
   "metadata": {},
   "outputs": [],
   "source": [
    "# num of each lab test is performed during an admission\n",
    "label_adm_stat = adm_lab.groupby(['HADM_ID', 'LABEL']).size().groupby('LABEL')"
   ]
  },
  {
   "cell_type": "code",
   "execution_count": 43,
   "metadata": {},
   "outputs": [
    {
     "data": {
      "text/html": [
       "<div>\n",
       "<style scoped>\n",
       "    .dataframe tbody tr th:only-of-type {\n",
       "        vertical-align: middle;\n",
       "    }\n",
       "\n",
       "    .dataframe tbody tr th {\n",
       "        vertical-align: top;\n",
       "    }\n",
       "\n",
       "    .dataframe thead th {\n",
       "        text-align: right;\n",
       "    }\n",
       "</style>\n",
       "<table border=\"1\" class=\"dataframe\">\n",
       "  <thead>\n",
       "    <tr style=\"text-align: right;\">\n",
       "      <th></th>\n",
       "      <th>count</th>\n",
       "      <th>mean</th>\n",
       "      <th>std</th>\n",
       "      <th>min</th>\n",
       "      <th>25%</th>\n",
       "      <th>50%</th>\n",
       "      <th>75%</th>\n",
       "      <th>max</th>\n",
       "    </tr>\n",
       "    <tr>\n",
       "      <th>LABEL</th>\n",
       "      <th></th>\n",
       "      <th></th>\n",
       "      <th></th>\n",
       "      <th></th>\n",
       "      <th></th>\n",
       "      <th></th>\n",
       "      <th></th>\n",
       "      <th></th>\n",
       "    </tr>\n",
       "  </thead>\n",
       "  <tbody>\n",
       "    <tr>\n",
       "      <th>% Hemoglobin A1c</th>\n",
       "      <td>1621.0</td>\n",
       "      <td>19.951882</td>\n",
       "      <td>11.687448</td>\n",
       "      <td>2.0</td>\n",
       "      <td>12.00</td>\n",
       "      <td>17.0</td>\n",
       "      <td>24.00</td>\n",
       "      <td>142.0</td>\n",
       "    </tr>\n",
       "    <tr>\n",
       "      <th>24 hr Calcium</th>\n",
       "      <td>2.0</td>\n",
       "      <td>35.500000</td>\n",
       "      <td>28.991378</td>\n",
       "      <td>15.0</td>\n",
       "      <td>25.25</td>\n",
       "      <td>35.5</td>\n",
       "      <td>45.75</td>\n",
       "      <td>56.0</td>\n",
       "    </tr>\n",
       "    <tr>\n",
       "      <th>24 hr Creatinine</th>\n",
       "      <td>59.0</td>\n",
       "      <td>34.474576</td>\n",
       "      <td>25.256174</td>\n",
       "      <td>4.0</td>\n",
       "      <td>17.00</td>\n",
       "      <td>28.0</td>\n",
       "      <td>45.50</td>\n",
       "      <td>132.0</td>\n",
       "    </tr>\n",
       "    <tr>\n",
       "      <th>24 hr Protein</th>\n",
       "      <td>18.0</td>\n",
       "      <td>31.722222</td>\n",
       "      <td>13.450587</td>\n",
       "      <td>9.0</td>\n",
       "      <td>22.25</td>\n",
       "      <td>35.5</td>\n",
       "      <td>40.00</td>\n",
       "      <td>56.0</td>\n",
       "    </tr>\n",
       "    <tr>\n",
       "      <th>25-OH Vitamin D</th>\n",
       "      <td>27.0</td>\n",
       "      <td>30.481481</td>\n",
       "      <td>15.680390</td>\n",
       "      <td>12.0</td>\n",
       "      <td>19.50</td>\n",
       "      <td>29.0</td>\n",
       "      <td>36.00</td>\n",
       "      <td>92.0</td>\n",
       "    </tr>\n",
       "    <tr>\n",
       "      <th>...</th>\n",
       "      <td>...</td>\n",
       "      <td>...</td>\n",
       "      <td>...</td>\n",
       "      <td>...</td>\n",
       "      <td>...</td>\n",
       "      <td>...</td>\n",
       "      <td>...</td>\n",
       "      <td>...</td>\n",
       "    </tr>\n",
       "    <tr>\n",
       "      <th>pCO2, Body Fluid</th>\n",
       "      <td>3.0</td>\n",
       "      <td>28.333333</td>\n",
       "      <td>13.796135</td>\n",
       "      <td>18.0</td>\n",
       "      <td>20.50</td>\n",
       "      <td>23.0</td>\n",
       "      <td>33.50</td>\n",
       "      <td>44.0</td>\n",
       "    </tr>\n",
       "    <tr>\n",
       "      <th>pH</th>\n",
       "      <td>10154.0</td>\n",
       "      <td>299.508765</td>\n",
       "      <td>716.812569</td>\n",
       "      <td>2.0</td>\n",
       "      <td>30.00</td>\n",
       "      <td>88.0</td>\n",
       "      <td>252.00</td>\n",
       "      <td>14690.0</td>\n",
       "    </tr>\n",
       "    <tr>\n",
       "      <th>pO2</th>\n",
       "      <td>7919.0</td>\n",
       "      <td>311.722566</td>\n",
       "      <td>713.511270</td>\n",
       "      <td>2.0</td>\n",
       "      <td>32.00</td>\n",
       "      <td>96.0</td>\n",
       "      <td>260.50</td>\n",
       "      <td>13520.0</td>\n",
       "    </tr>\n",
       "    <tr>\n",
       "      <th>pO2, Body Fluid</th>\n",
       "      <td>2.0</td>\n",
       "      <td>20.500000</td>\n",
       "      <td>3.535534</td>\n",
       "      <td>18.0</td>\n",
       "      <td>19.25</td>\n",
       "      <td>20.5</td>\n",
       "      <td>21.75</td>\n",
       "      <td>23.0</td>\n",
       "    </tr>\n",
       "    <tr>\n",
       "      <th>tacroFK</th>\n",
       "      <td>193.0</td>\n",
       "      <td>299.715026</td>\n",
       "      <td>408.866964</td>\n",
       "      <td>7.0</td>\n",
       "      <td>64.00</td>\n",
       "      <td>135.0</td>\n",
       "      <td>348.00</td>\n",
       "      <td>2655.0</td>\n",
       "    </tr>\n",
       "  </tbody>\n",
       "</table>\n",
       "<p>532 rows × 8 columns</p>\n",
       "</div>"
      ],
      "text/plain": [
       "                    count        mean         std   min    25%    50%     75%  \\\n",
       "LABEL                                                                           \n",
       "% Hemoglobin A1c   1621.0   19.951882   11.687448   2.0  12.00   17.0   24.00   \n",
       "24 hr Calcium         2.0   35.500000   28.991378  15.0  25.25   35.5   45.75   \n",
       "24 hr Creatinine     59.0   34.474576   25.256174   4.0  17.00   28.0   45.50   \n",
       "24 hr Protein        18.0   31.722222   13.450587   9.0  22.25   35.5   40.00   \n",
       "25-OH Vitamin D      27.0   30.481481   15.680390  12.0  19.50   29.0   36.00   \n",
       "...                   ...         ...         ...   ...    ...    ...     ...   \n",
       "pCO2, Body Fluid      3.0   28.333333   13.796135  18.0  20.50   23.0   33.50   \n",
       "pH                10154.0  299.508765  716.812569   2.0  30.00   88.0  252.00   \n",
       "pO2                7919.0  311.722566  713.511270   2.0  32.00   96.0  260.50   \n",
       "pO2, Body Fluid       2.0   20.500000    3.535534  18.0  19.25   20.5   21.75   \n",
       "tacroFK             193.0  299.715026  408.866964   7.0  64.00  135.0  348.00   \n",
       "\n",
       "                      max  \n",
       "LABEL                      \n",
       "% Hemoglobin A1c    142.0  \n",
       "24 hr Calcium        56.0  \n",
       "24 hr Creatinine    132.0  \n",
       "24 hr Protein        56.0  \n",
       "25-OH Vitamin D      92.0  \n",
       "...                   ...  \n",
       "pCO2, Body Fluid     44.0  \n",
       "pH                14690.0  \n",
       "pO2               13520.0  \n",
       "pO2, Body Fluid      23.0  \n",
       "tacroFK            2655.0  \n",
       "\n",
       "[532 rows x 8 columns]"
      ]
     },
     "execution_count": 43,
     "metadata": {},
     "output_type": "execute_result"
    }
   ],
   "source": [
    "label_adm_stat.describe()"
   ]
  },
  {
   "cell_type": "code",
   "execution_count": 37,
   "metadata": {},
   "outputs": [
    {
     "data": {
      "text/plain": [
       "LABEL\n",
       "Hematocrit                11253\n",
       "Hemoglobin                11247\n",
       "Platelet Count            11246\n",
       "White Blood Cells         11245\n",
       "MCH                       11241\n",
       "                          ...  \n",
       "PLASMGN                       1\n",
       "Osmolality, Body Fluid        1\n",
       "Osmolality, Ascites           1\n",
       "CD5 Absolute Count            1\n",
       "CD20 Absolute Count           1\n",
       "Length: 532, dtype: int64"
      ]
     },
     "execution_count": 37,
     "metadata": {},
     "output_type": "execute_result"
    }
   ],
   "source": [
    "label_adm_stat.size().sort_values(ascending=False)"
   ]
  },
  {
   "cell_type": "code",
   "execution_count": 42,
   "metadata": {},
   "outputs": [
    {
     "data": {
      "text/html": [
       "<div>\n",
       "<style scoped>\n",
       "    .dataframe tbody tr th:only-of-type {\n",
       "        vertical-align: middle;\n",
       "    }\n",
       "\n",
       "    .dataframe tbody tr th {\n",
       "        vertical-align: top;\n",
       "    }\n",
       "\n",
       "    .dataframe thead tr th {\n",
       "        text-align: left;\n",
       "    }\n",
       "\n",
       "    .dataframe thead tr:last-of-type th {\n",
       "        text-align: right;\n",
       "    }\n",
       "</style>\n",
       "<table border=\"1\" class=\"dataframe\">\n",
       "  <thead>\n",
       "    <tr>\n",
       "      <th></th>\n",
       "      <th colspan=\"8\" halign=\"left\">0</th>\n",
       "    </tr>\n",
       "    <tr>\n",
       "      <th></th>\n",
       "      <th>count</th>\n",
       "      <th>mean</th>\n",
       "      <th>std</th>\n",
       "      <th>min</th>\n",
       "      <th>25%</th>\n",
       "      <th>50%</th>\n",
       "      <th>75%</th>\n",
       "      <th>max</th>\n",
       "    </tr>\n",
       "    <tr>\n",
       "      <th>CATEGORY</th>\n",
       "      <th></th>\n",
       "      <th></th>\n",
       "      <th></th>\n",
       "      <th></th>\n",
       "      <th></th>\n",
       "      <th></th>\n",
       "      <th></th>\n",
       "      <th></th>\n",
       "    </tr>\n",
       "  </thead>\n",
       "  <tbody>\n",
       "    <tr>\n",
       "      <th>blood gas</th>\n",
       "      <td>44693.0</td>\n",
       "      <td>110.162800</td>\n",
       "      <td>198.993803</td>\n",
       "      <td>1.0</td>\n",
       "      <td>11.0</td>\n",
       "      <td>43.0</td>\n",
       "      <td>124.0</td>\n",
       "      <td>5962.0</td>\n",
       "    </tr>\n",
       "    <tr>\n",
       "      <th>chemistry</th>\n",
       "      <td>56924.0</td>\n",
       "      <td>148.469556</td>\n",
       "      <td>188.963209</td>\n",
       "      <td>1.0</td>\n",
       "      <td>50.0</td>\n",
       "      <td>94.0</td>\n",
       "      <td>176.0</td>\n",
       "      <td>4766.0</td>\n",
       "    </tr>\n",
       "    <tr>\n",
       "      <th>hematology</th>\n",
       "      <td>57150.0</td>\n",
       "      <td>155.206422</td>\n",
       "      <td>187.832855</td>\n",
       "      <td>1.0</td>\n",
       "      <td>55.0</td>\n",
       "      <td>102.0</td>\n",
       "      <td>183.0</td>\n",
       "      <td>4971.0</td>\n",
       "    </tr>\n",
       "  </tbody>\n",
       "</table>\n",
       "</div>"
      ],
      "text/plain": [
       "                  0                                                         \n",
       "              count        mean         std  min   25%    50%    75%     max\n",
       "CATEGORY                                                                    \n",
       "blood gas   44693.0  110.162800  198.993803  1.0  11.0   43.0  124.0  5962.0\n",
       "chemistry   56924.0  148.469556  188.963209  1.0  50.0   94.0  176.0  4766.0\n",
       "hematology  57150.0  155.206422  187.832855  1.0  55.0  102.0  183.0  4971.0"
      ]
     },
     "execution_count": 42,
     "metadata": {},
     "output_type": "execute_result"
    }
   ],
   "source": [
    "# num of each category performed during an admission\n",
    "adm_lab['CATEGORY'] = adm_lab['CATEGORY'].str.lower()\n",
    "adm_lab.groupby(['HADM_ID', 'CATEGORY']).size().reset_index().groupby('CATEGORY')[[0]].describe()"
   ]
  },
  {
   "cell_type": "markdown",
   "metadata": {},
   "source": [
    "### Mapping with Time Elapse\n",
    "need: admission time, lab test time, discharge time to determine at what point during the stay the test is performed"
   ]
  },
  {
   "cell_type": "code",
   "execution_count": 8,
   "metadata": {},
   "outputs": [],
   "source": [
    "stay_info = pd.read_csv(os.path.join(dataset_path,\"ADMISSIONS.csv\"), usecols=['HADM_ID', 'ADMITTIME', 'DISCHTIME'])"
   ]
  },
  {
   "cell_type": "code",
   "execution_count": 73,
   "metadata": {},
   "outputs": [
    {
     "name": "stdout",
     "output_type": "stream",
     "text": [
      "3556000\n",
      "199042\n",
      "3425732\n"
     ]
    }
   ],
   "source": [
    "print(len(adm_lab))\n",
    "lab_time = adm_lab.merge(stay_info, on='HADM_ID', how='inner')\n",
    "lab_time = lab_time[(pd.to_datetime(lab_time['ADMITTIME']) < pd.to_datetime(lab_time['DISCHTIME'])) & (pd.to_datetime(lab_time['CHARTTIME']) < pd.to_datetime(lab_time['DISCHTIME']))]\n",
    "lab_time['PROP_ELAPSED'] = (pd.to_datetime(lab_time['CHARTTIME']) - pd.to_datetime(lab_time['ADMITTIME'])) / (pd.to_datetime(lab_time['DISCHTIME']) - pd.to_datetime(micro_time['ADMITTIME']))\n",
    "print(len(lab_time[lab_time['PROP_ELAPSED'] < 0]))\n",
    "lab_time.loc[lab_time['PROP_ELAPSED'] < 0, 'PROP_ELAPSED'] = 0\n",
    "print(len(lab_time))"
   ]
  },
  {
   "cell_type": "code",
   "execution_count": 74,
   "metadata": {},
   "outputs": [
    {
     "data": {
      "text/html": [
       "<div>\n",
       "<style scoped>\n",
       "    .dataframe tbody tr th:only-of-type {\n",
       "        vertical-align: middle;\n",
       "    }\n",
       "\n",
       "    .dataframe tbody tr th {\n",
       "        vertical-align: top;\n",
       "    }\n",
       "\n",
       "    .dataframe thead th {\n",
       "        text-align: right;\n",
       "    }\n",
       "</style>\n",
       "<table border=\"1\" class=\"dataframe\">\n",
       "  <thead>\n",
       "    <tr style=\"text-align: right;\">\n",
       "      <th></th>\n",
       "      <th>ROW_ID</th>\n",
       "      <th>SUBJECT_ID</th>\n",
       "      <th>HADM_ID</th>\n",
       "      <th>ITEMID</th>\n",
       "      <th>CHARTTIME</th>\n",
       "      <th>VALUE</th>\n",
       "      <th>VALUENUM</th>\n",
       "      <th>VALUEUOM</th>\n",
       "      <th>FLAG</th>\n",
       "      <th>LABEL</th>\n",
       "      <th>CATEGORY</th>\n",
       "      <th>SPLIT_50</th>\n",
       "    </tr>\n",
       "  </thead>\n",
       "  <tbody>\n",
       "    <tr>\n",
       "      <th>0</th>\n",
       "      <td>7932</td>\n",
       "      <td>17</td>\n",
       "      <td>161087</td>\n",
       "      <td>50868</td>\n",
       "      <td>2135-05-09 10:45:00</td>\n",
       "      <td>20</td>\n",
       "      <td>20.0</td>\n",
       "      <td>mEq/L</td>\n",
       "      <td>NaN</td>\n",
       "      <td>Anion Gap</td>\n",
       "      <td>Chemistry</td>\n",
       "      <td>TRAIN</td>\n",
       "    </tr>\n",
       "    <tr>\n",
       "      <th>1</th>\n",
       "      <td>7933</td>\n",
       "      <td>17</td>\n",
       "      <td>161087</td>\n",
       "      <td>50882</td>\n",
       "      <td>2135-05-09 10:45:00</td>\n",
       "      <td>21</td>\n",
       "      <td>21.0</td>\n",
       "      <td>mEq/L</td>\n",
       "      <td>abnormal</td>\n",
       "      <td>Bicarbonate</td>\n",
       "      <td>Chemistry</td>\n",
       "      <td>TRAIN</td>\n",
       "    </tr>\n",
       "    <tr>\n",
       "      <th>2</th>\n",
       "      <td>7934</td>\n",
       "      <td>17</td>\n",
       "      <td>161087</td>\n",
       "      <td>50902</td>\n",
       "      <td>2135-05-09 10:45:00</td>\n",
       "      <td>101</td>\n",
       "      <td>101.0</td>\n",
       "      <td>mEq/L</td>\n",
       "      <td>NaN</td>\n",
       "      <td>Chloride</td>\n",
       "      <td>Chemistry</td>\n",
       "      <td>TRAIN</td>\n",
       "    </tr>\n",
       "    <tr>\n",
       "      <th>3</th>\n",
       "      <td>7935</td>\n",
       "      <td>17</td>\n",
       "      <td>161087</td>\n",
       "      <td>50910</td>\n",
       "      <td>2135-05-09 10:45:00</td>\n",
       "      <td>26</td>\n",
       "      <td>26.0</td>\n",
       "      <td>IU/L</td>\n",
       "      <td>NaN</td>\n",
       "      <td>Creatine Kinase (CK)</td>\n",
       "      <td>Chemistry</td>\n",
       "      <td>TRAIN</td>\n",
       "    </tr>\n",
       "    <tr>\n",
       "      <th>4</th>\n",
       "      <td>7936</td>\n",
       "      <td>17</td>\n",
       "      <td>161087</td>\n",
       "      <td>50911</td>\n",
       "      <td>2135-05-09 10:45:00</td>\n",
       "      <td>NotDone</td>\n",
       "      <td>NaN</td>\n",
       "      <td>ng/mL</td>\n",
       "      <td>NaN</td>\n",
       "      <td>Creatine Kinase, MB Isoenzyme</td>\n",
       "      <td>Chemistry</td>\n",
       "      <td>TRAIN</td>\n",
       "    </tr>\n",
       "  </tbody>\n",
       "</table>\n",
       "</div>"
      ],
      "text/plain": [
       "   ROW_ID  SUBJECT_ID  HADM_ID  ITEMID           CHARTTIME    VALUE  VALUENUM  \\\n",
       "0    7932          17   161087   50868 2135-05-09 10:45:00       20      20.0   \n",
       "1    7933          17   161087   50882 2135-05-09 10:45:00       21      21.0   \n",
       "2    7934          17   161087   50902 2135-05-09 10:45:00      101     101.0   \n",
       "3    7935          17   161087   50910 2135-05-09 10:45:00       26      26.0   \n",
       "4    7936          17   161087   50911 2135-05-09 10:45:00  NotDone       NaN   \n",
       "\n",
       "  VALUEUOM      FLAG                          LABEL   CATEGORY SPLIT_50  \n",
       "0    mEq/L       NaN                      Anion Gap  Chemistry    TRAIN  \n",
       "1    mEq/L  abnormal                    Bicarbonate  Chemistry    TRAIN  \n",
       "2    mEq/L       NaN                       Chloride  Chemistry    TRAIN  \n",
       "3     IU/L       NaN           Creatine Kinase (CK)  Chemistry    TRAIN  \n",
       "4    ng/mL       NaN  Creatine Kinase, MB Isoenzyme  Chemistry    TRAIN  "
      ]
     },
     "execution_count": 74,
     "metadata": {},
     "output_type": "execute_result"
    }
   ],
   "source": [
    "adm_lab.head()"
   ]
  },
  {
   "cell_type": "code",
   "execution_count": 18,
   "metadata": {},
   "outputs": [],
   "source": [
    "def vectorized_hour_to_cutoff(hours, ):\n",
    "    cutoffs = np.select(\n",
    "        [\n",
    "            hours < 2 * 24,\n",
    "            hours < 5 * 24,\n",
    "            hours < 13 * 24\n",
    "        ],\n",
    "        [\n",
    "            2,\n",
    "            5,\n",
    "            13\n",
    "        ],\n",
    "        default=0\n",
    "    )\n",
    "    return cutoffs"
   ]
  },
  {
   "cell_type": "code",
   "execution_count": 76,
   "metadata": {},
   "outputs": [],
   "source": [
    "lab_time['TIME_ELAPSED'] = (pd.to_datetime(lab_time['CHARTTIME']) - pd.to_datetime(lab_time['ADMITTIME'])).clip(lower=pd.Timedelta(0))\n",
    "lab_time[\"HOURS_ELAPSED\"] = lab_time[\"TIME_ELAPSED\"].dt.total_seconds() / 3600.0\n",
    "\n",
    "\n",
    "lab_time[\"cutoff\"] = vectorized_hour_to_cutoff(lab_time[\"HOURS_ELAPSED\"])"
   ]
  },
  {
   "cell_type": "code",
   "execution_count": 77,
   "metadata": {},
   "outputs": [
    {
     "data": {
      "text/plain": [
       "cutoff\n",
       "2     1172823\n",
       "13     860838\n",
       "5      723099\n",
       "0      668972\n",
       "Name: count, dtype: int64"
      ]
     },
     "execution_count": 77,
     "metadata": {},
     "output_type": "execute_result"
    }
   ],
   "source": [
    "lab_time[\"cutoff\"].value_counts()"
   ]
  },
  {
   "cell_type": "code",
   "execution_count": 48,
   "metadata": {},
   "outputs": [
    {
     "data": {
      "text/html": [
       "<div>\n",
       "<style scoped>\n",
       "    .dataframe tbody tr th:only-of-type {\n",
       "        vertical-align: middle;\n",
       "    }\n",
       "\n",
       "    .dataframe tbody tr th {\n",
       "        vertical-align: top;\n",
       "    }\n",
       "\n",
       "    .dataframe thead tr th {\n",
       "        text-align: left;\n",
       "    }\n",
       "\n",
       "    .dataframe thead tr:last-of-type th {\n",
       "        text-align: right;\n",
       "    }\n",
       "</style>\n",
       "<table border=\"1\" class=\"dataframe\">\n",
       "  <thead>\n",
       "    <tr>\n",
       "      <th></th>\n",
       "      <th colspan=\"8\" halign=\"left\">0</th>\n",
       "    </tr>\n",
       "    <tr>\n",
       "      <th></th>\n",
       "      <th>count</th>\n",
       "      <th>mean</th>\n",
       "      <th>std</th>\n",
       "      <th>min</th>\n",
       "      <th>25%</th>\n",
       "      <th>50%</th>\n",
       "      <th>75%</th>\n",
       "      <th>max</th>\n",
       "    </tr>\n",
       "    <tr>\n",
       "      <th>cutoff</th>\n",
       "      <th></th>\n",
       "      <th></th>\n",
       "      <th></th>\n",
       "      <th></th>\n",
       "      <th></th>\n",
       "      <th></th>\n",
       "      <th></th>\n",
       "      <th></th>\n",
       "    </tr>\n",
       "  </thead>\n",
       "  <tbody>\n",
       "    <tr>\n",
       "      <th>0</th>\n",
       "      <td>1696.0</td>\n",
       "      <td>394.441038</td>\n",
       "      <td>631.663297</td>\n",
       "      <td>1.0</td>\n",
       "      <td>51.0</td>\n",
       "      <td>170.0</td>\n",
       "      <td>457.25</td>\n",
       "      <td>6541.0</td>\n",
       "    </tr>\n",
       "    <tr>\n",
       "      <th>2</th>\n",
       "      <td>7764.0</td>\n",
       "      <td>151.059119</td>\n",
       "      <td>84.879301</td>\n",
       "      <td>2.0</td>\n",
       "      <td>95.0</td>\n",
       "      <td>133.0</td>\n",
       "      <td>188.00</td>\n",
       "      <td>840.0</td>\n",
       "    </tr>\n",
       "    <tr>\n",
       "      <th>5</th>\n",
       "      <td>7046.0</td>\n",
       "      <td>102.625461</td>\n",
       "      <td>83.933889</td>\n",
       "      <td>1.0</td>\n",
       "      <td>46.0</td>\n",
       "      <td>82.0</td>\n",
       "      <td>133.00</td>\n",
       "      <td>897.0</td>\n",
       "    </tr>\n",
       "    <tr>\n",
       "      <th>13</th>\n",
       "      <td>4878.0</td>\n",
       "      <td>176.473555</td>\n",
       "      <td>180.219400</td>\n",
       "      <td>1.0</td>\n",
       "      <td>40.0</td>\n",
       "      <td>119.0</td>\n",
       "      <td>260.00</td>\n",
       "      <td>1812.0</td>\n",
       "    </tr>\n",
       "  </tbody>\n",
       "</table>\n",
       "</div>"
      ],
      "text/plain": [
       "             0                                                          \n",
       "         count        mean         std  min   25%    50%     75%     max\n",
       "cutoff                                                                  \n",
       "0       1696.0  394.441038  631.663297  1.0  51.0  170.0  457.25  6541.0\n",
       "2       7764.0  151.059119   84.879301  2.0  95.0  133.0  188.00   840.0\n",
       "5       7046.0  102.625461   83.933889  1.0  46.0   82.0  133.00   897.0\n",
       "13      4878.0  176.473555  180.219400  1.0  40.0  119.0  260.00  1812.0"
      ]
     },
     "execution_count": 48,
     "metadata": {},
     "output_type": "execute_result"
    }
   ],
   "source": [
    "lab_time.groupby(['HADM_ID', 'cutoff']).size().reset_index().groupby('cutoff')[[0]].describe()"
   ]
  },
  {
   "cell_type": "code",
   "execution_count": 79,
   "metadata": {},
   "outputs": [
    {
     "data": {
      "text/html": [
       "<div>\n",
       "<style scoped>\n",
       "    .dataframe tbody tr th:only-of-type {\n",
       "        vertical-align: middle;\n",
       "    }\n",
       "\n",
       "    .dataframe tbody tr th {\n",
       "        vertical-align: top;\n",
       "    }\n",
       "\n",
       "    .dataframe thead tr th {\n",
       "        text-align: left;\n",
       "    }\n",
       "\n",
       "    .dataframe thead tr:last-of-type th {\n",
       "        text-align: right;\n",
       "    }\n",
       "</style>\n",
       "<table border=\"1\" class=\"dataframe\">\n",
       "  <thead>\n",
       "    <tr>\n",
       "      <th></th>\n",
       "      <th colspan=\"8\" halign=\"left\">0</th>\n",
       "    </tr>\n",
       "    <tr>\n",
       "      <th></th>\n",
       "      <th>count</th>\n",
       "      <th>mean</th>\n",
       "      <th>std</th>\n",
       "      <th>min</th>\n",
       "      <th>25%</th>\n",
       "      <th>50%</th>\n",
       "      <th>75%</th>\n",
       "      <th>max</th>\n",
       "    </tr>\n",
       "    <tr>\n",
       "      <th>cutoff</th>\n",
       "      <th></th>\n",
       "      <th></th>\n",
       "      <th></th>\n",
       "      <th></th>\n",
       "      <th></th>\n",
       "      <th></th>\n",
       "      <th></th>\n",
       "      <th></th>\n",
       "    </tr>\n",
       "  </thead>\n",
       "  <tbody>\n",
       "    <tr>\n",
       "      <th>0</th>\n",
       "      <td>1683.0</td>\n",
       "      <td>188.585264</td>\n",
       "      <td>286.566468</td>\n",
       "      <td>1.0</td>\n",
       "      <td>28.0</td>\n",
       "      <td>89.0</td>\n",
       "      <td>227.5</td>\n",
       "      <td>3369.0</td>\n",
       "    </tr>\n",
       "    <tr>\n",
       "      <th>2</th>\n",
       "      <td>7762.0</td>\n",
       "      <td>63.418578</td>\n",
       "      <td>33.030578</td>\n",
       "      <td>1.0</td>\n",
       "      <td>44.0</td>\n",
       "      <td>57.0</td>\n",
       "      <td>78.0</td>\n",
       "      <td>331.0</td>\n",
       "    </tr>\n",
       "    <tr>\n",
       "      <th>5</th>\n",
       "      <td>7027.0</td>\n",
       "      <td>49.133343</td>\n",
       "      <td>34.013866</td>\n",
       "      <td>1.0</td>\n",
       "      <td>26.0</td>\n",
       "      <td>43.0</td>\n",
       "      <td>63.0</td>\n",
       "      <td>345.0</td>\n",
       "    </tr>\n",
       "    <tr>\n",
       "      <th>13</th>\n",
       "      <td>4852.0</td>\n",
       "      <td>85.177246</td>\n",
       "      <td>77.593188</td>\n",
       "      <td>1.0</td>\n",
       "      <td>24.0</td>\n",
       "      <td>64.0</td>\n",
       "      <td>128.0</td>\n",
       "      <td>695.0</td>\n",
       "    </tr>\n",
       "  </tbody>\n",
       "</table>\n",
       "</div>"
      ],
      "text/plain": [
       "             0                                                        \n",
       "         count        mean         std  min   25%   50%    75%     max\n",
       "cutoff                                                                \n",
       "0       1683.0  188.585264  286.566468  1.0  28.0  89.0  227.5  3369.0\n",
       "2       7762.0   63.418578   33.030578  1.0  44.0  57.0   78.0   331.0\n",
       "5       7027.0   49.133343   34.013866  1.0  26.0  43.0   63.0   345.0\n",
       "13      4852.0   85.177246   77.593188  1.0  24.0  64.0  128.0   695.0"
      ]
     },
     "execution_count": 79,
     "metadata": {},
     "output_type": "execute_result"
    }
   ],
   "source": [
    "with open('/Users/cindy/Documents/Imperial/msc-proj/temporal-multimodal-learning/temp-mm/preproc/incr/incr_imp-lab_less.txt', 'r') as f:\n",
    "    imp_labs = f.read().splitlines()\n",
    "lab_time[lab_time['LABEL'].isin(imp_labs)].groupby(['HADM_ID', 'cutoff']).size().reset_index().groupby('cutoff')[[0]].describe()"
   ]
  },
  {
   "cell_type": "code",
   "execution_count": 82,
   "metadata": {},
   "outputs": [
    {
     "data": {
      "text/plain": [
       "7895"
      ]
     },
     "execution_count": 82,
     "metadata": {},
     "output_type": "execute_result"
    }
   ],
   "source": [
    "test = lab_time[lab_time['LABEL'].isin(imp_labs)].groupby(['HADM_ID', 'cutoff']).size().reset_index()\n",
    "test[test['cutoff'].isin([2,5,13])]['HADM_ID'].nunique()"
   ]
  },
  {
   "cell_type": "code",
   "execution_count": 31,
   "metadata": {},
   "outputs": [
    {
     "data": {
      "text/html": [
       "<div>\n",
       "<style scoped>\n",
       "    .dataframe tbody tr th:only-of-type {\n",
       "        vertical-align: middle;\n",
       "    }\n",
       "\n",
       "    .dataframe tbody tr th {\n",
       "        vertical-align: top;\n",
       "    }\n",
       "\n",
       "    .dataframe thead th {\n",
       "        text-align: right;\n",
       "    }\n",
       "</style>\n",
       "<table border=\"1\" class=\"dataframe\">\n",
       "  <thead>\n",
       "    <tr style=\"text-align: right;\">\n",
       "      <th></th>\n",
       "      <th>HADM_ID</th>\n",
       "      <th>LABEL</th>\n",
       "      <th>CATEGORY</th>\n",
       "      <th>CHARTTIME</th>\n",
       "      <th>SPLIT_50</th>\n",
       "      <th>ROW_ID</th>\n",
       "      <th>SUBJECT_ID</th>\n",
       "      <th>SEQ_NUM</th>\n",
       "      <th>ICD9_CODE</th>\n",
       "      <th>ADMITTIME</th>\n",
       "      <th>DISCHTIME</th>\n",
       "    </tr>\n",
       "  </thead>\n",
       "  <tbody>\n",
       "    <tr>\n",
       "      <th>352</th>\n",
       "      <td>161087.0</td>\n",
       "      <td>Base Excess</td>\n",
       "      <td>Blood Gas</td>\n",
       "      <td>2135-05-09 12:54:00</td>\n",
       "      <td>TRAIN</td>\n",
       "      <td>73</td>\n",
       "      <td>17</td>\n",
       "      <td>1.0</td>\n",
       "      <td>423.9</td>\n",
       "      <td>2135-05-09 14:11:00</td>\n",
       "      <td>2135-05-13 14:40:00</td>\n",
       "    </tr>\n",
       "    <tr>\n",
       "      <th>353</th>\n",
       "      <td>161087.0</td>\n",
       "      <td>Base Excess</td>\n",
       "      <td>Blood Gas</td>\n",
       "      <td>2135-05-09 12:54:00</td>\n",
       "      <td>TRAIN</td>\n",
       "      <td>74</td>\n",
       "      <td>17</td>\n",
       "      <td>2.0</td>\n",
       "      <td>511.9</td>\n",
       "      <td>2135-05-09 14:11:00</td>\n",
       "      <td>2135-05-13 14:40:00</td>\n",
       "    </tr>\n",
       "    <tr>\n",
       "      <th>354</th>\n",
       "      <td>161087.0</td>\n",
       "      <td>Base Excess</td>\n",
       "      <td>Blood Gas</td>\n",
       "      <td>2135-05-09 12:54:00</td>\n",
       "      <td>TRAIN</td>\n",
       "      <td>75</td>\n",
       "      <td>17</td>\n",
       "      <td>3.0</td>\n",
       "      <td>785.51</td>\n",
       "      <td>2135-05-09 14:11:00</td>\n",
       "      <td>2135-05-13 14:40:00</td>\n",
       "    </tr>\n",
       "    <tr>\n",
       "      <th>355</th>\n",
       "      <td>161087.0</td>\n",
       "      <td>Base Excess</td>\n",
       "      <td>Blood Gas</td>\n",
       "      <td>2135-05-09 12:54:00</td>\n",
       "      <td>TRAIN</td>\n",
       "      <td>76</td>\n",
       "      <td>17</td>\n",
       "      <td>4.0</td>\n",
       "      <td>458.9</td>\n",
       "      <td>2135-05-09 14:11:00</td>\n",
       "      <td>2135-05-13 14:40:00</td>\n",
       "    </tr>\n",
       "    <tr>\n",
       "      <th>356</th>\n",
       "      <td>161087.0</td>\n",
       "      <td>Base Excess</td>\n",
       "      <td>Blood Gas</td>\n",
       "      <td>2135-05-09 12:54:00</td>\n",
       "      <td>TRAIN</td>\n",
       "      <td>77</td>\n",
       "      <td>17</td>\n",
       "      <td>5.0</td>\n",
       "      <td>311</td>\n",
       "      <td>2135-05-09 14:11:00</td>\n",
       "      <td>2135-05-13 14:40:00</td>\n",
       "    </tr>\n",
       "  </tbody>\n",
       "</table>\n",
       "</div>"
      ],
      "text/plain": [
       "      HADM_ID        LABEL   CATEGORY            CHARTTIME SPLIT_50  ROW_ID  \\\n",
       "352  161087.0  Base Excess  Blood Gas  2135-05-09 12:54:00    TRAIN      73   \n",
       "353  161087.0  Base Excess  Blood Gas  2135-05-09 12:54:00    TRAIN      74   \n",
       "354  161087.0  Base Excess  Blood Gas  2135-05-09 12:54:00    TRAIN      75   \n",
       "355  161087.0  Base Excess  Blood Gas  2135-05-09 12:54:00    TRAIN      76   \n",
       "356  161087.0  Base Excess  Blood Gas  2135-05-09 12:54:00    TRAIN      77   \n",
       "\n",
       "     SUBJECT_ID  SEQ_NUM ICD9_CODE            ADMITTIME            DISCHTIME  \n",
       "352          17      1.0     423.9  2135-05-09 14:11:00  2135-05-13 14:40:00  \n",
       "353          17      2.0     511.9  2135-05-09 14:11:00  2135-05-13 14:40:00  \n",
       "354          17      3.0    785.51  2135-05-09 14:11:00  2135-05-13 14:40:00  \n",
       "355          17      4.0     458.9  2135-05-09 14:11:00  2135-05-13 14:40:00  \n",
       "356          17      5.0       311  2135-05-09 14:11:00  2135-05-13 14:40:00  "
      ]
     },
     "execution_count": 31,
     "metadata": {},
     "output_type": "execute_result"
    }
   ],
   "source": [
    "lab_time[lab_time['CATEGORY']=='Blood Gas'].head()"
   ]
  },
  {
   "cell_type": "code",
   "execution_count": 108,
   "metadata": {},
   "outputs": [
    {
     "name": "stdout",
     "output_type": "stream",
     "text": [
      "0.9999489544162937\n",
      "count    2.220740e+07\n",
      "mean     3.602482e-01\n",
      "std      2.936580e-01\n",
      "min      0.000000e+00\n",
      "25%      8.917249e-02\n",
      "50%      3.091467e-01\n",
      "75%      5.904747e-01\n",
      "max      9.999490e-01\n",
      "Name: PROP_ELAPSED, dtype: float64\n"
     ]
    }
   ],
   "source": [
    "print(lab_time['PROP_ELAPSED'].max())\n",
    "print(lab_time['PROP_ELAPSED'].describe())"
   ]
  },
  {
   "cell_type": "code",
   "execution_count": 18,
   "metadata": {},
   "outputs": [
    {
     "data": {
      "image/png": "[encoded data removed]",
      "text/plain": [
       "<Figure size 640x480 with 1 Axes>"
      ]
     },
     "metadata": {},
     "output_type": "display_data"
    }
   ],
   "source": [
    "sns.set_theme()\n",
    "plt.hist(lab_time['PROP_ELAPSED'], alpha=0.5, bins=20)\n",
    "plt.xlabel('Proportion of stay elapsed')\n",
    "plt.ylabel('Number of lab tests')\n",
    "plt.title('Distribution of lab tests over stay duration')\n",
    "plt.show()"
   ]
  },
  {
   "cell_type": "code",
   "execution_count": 22,
   "metadata": {},
   "outputs": [
    {
     "data": {
      "image/png": "[encoded data removed]",
      "text/plain": [
       "<Figure size 1000x800 with 6 Axes>"
      ]
     },
     "metadata": {},
     "output_type": "display_data"
    }
   ],
   "source": [
    "sns.set_theme()\n",
    "top5_lab = ['Hematocrit', 'Hemoglobin', 'Platelet Count', 'White Blood Cells', 'MCH']\n",
    "colors = ['#FF5733', '#3498DB', '#27AE60', '#F39C12', '#9B59B6']\n",
    "fig, axs = plt.subplots(3, 2, figsize=(10, 8), sharex=True, sharey=True)  # 2 rows, 2 columns\n",
    "plt.subplots_adjust(hspace=0.5)\n",
    "for i in range(5):\n",
    "    row = i // 2\n",
    "    col = i % 2\n",
    "    ax = axs[row, col]\n",
    "\n",
    "    ax.hist(lab_time[lab_time['LABEL'] == top5_lab[i]]['PROP_ELAPSED'], density=True, bins=20, alpha=0.5, color=colors[i], label=top5_lab[i])\n",
    "    ax.set_title(f'{top5_lab[i]}')\n",
    "\n",
    "axs[-1, -1].axis('off')\n",
    "fig.text(0.5, 0.04, 'Proportion of stay elapsed', ha='center')\n",
    "fig.text(0.04, 0.5, 'Frequency', va='center', rotation='vertical')\n",
    "plt.suptitle('Distribution of top 5 lab tests over hospital stay')\n",
    "plt.show()"
   ]
  },
  {
   "cell_type": "code",
   "execution_count": 29,
   "metadata": {},
   "outputs": [],
   "source": [
    "lab_time['CATEGORY'] = lab_time['CATEGORY'].str.lower()"
   ]
  },
  {
   "cell_type": "code",
   "execution_count": 14,
   "metadata": {},
   "outputs": [
    {
     "data": {
      "text/html": [
       "<div>\n",
       "<style scoped>\n",
       "    .dataframe tbody tr th:only-of-type {\n",
       "        vertical-align: middle;\n",
       "    }\n",
       "\n",
       "    .dataframe tbody tr th {\n",
       "        vertical-align: top;\n",
       "    }\n",
       "\n",
       "    .dataframe thead th {\n",
       "        text-align: right;\n",
       "    }\n",
       "</style>\n",
       "<table border=\"1\" class=\"dataframe\">\n",
       "  <thead>\n",
       "    <tr style=\"text-align: right;\">\n",
       "      <th></th>\n",
       "      <th>HADM_ID</th>\n",
       "      <th>LABEL</th>\n",
       "      <th>CATEGORY</th>\n",
       "      <th>CHARTTIME</th>\n",
       "      <th>SPLIT_50</th>\n",
       "      <th>ROW_ID</th>\n",
       "      <th>SUBJECT_ID</th>\n",
       "      <th>SEQ_NUM</th>\n",
       "      <th>ICD9_CODE</th>\n",
       "      <th>ADMITTIME</th>\n",
       "      <th>DISCHTIME</th>\n",
       "      <th>PROP_ELAPSED</th>\n",
       "    </tr>\n",
       "  </thead>\n",
       "  <tbody>\n",
       "    <tr>\n",
       "      <th>0</th>\n",
       "      <td>161087.0</td>\n",
       "      <td>Anion Gap</td>\n",
       "      <td>chemistry</td>\n",
       "      <td>2135-05-09 10:45:00</td>\n",
       "      <td>TRAIN</td>\n",
       "      <td>73</td>\n",
       "      <td>17</td>\n",
       "      <td>1.0</td>\n",
       "      <td>423.9</td>\n",
       "      <td>2135-05-09 14:11:00</td>\n",
       "      <td>2135-05-13 14:40:00</td>\n",
       "      <td>0.0</td>\n",
       "    </tr>\n",
       "    <tr>\n",
       "      <th>1</th>\n",
       "      <td>161087.0</td>\n",
       "      <td>Anion Gap</td>\n",
       "      <td>chemistry</td>\n",
       "      <td>2135-05-09 10:45:00</td>\n",
       "      <td>TRAIN</td>\n",
       "      <td>74</td>\n",
       "      <td>17</td>\n",
       "      <td>2.0</td>\n",
       "      <td>511.9</td>\n",
       "      <td>2135-05-09 14:11:00</td>\n",
       "      <td>2135-05-13 14:40:00</td>\n",
       "      <td>0.0</td>\n",
       "    </tr>\n",
       "    <tr>\n",
       "      <th>2</th>\n",
       "      <td>161087.0</td>\n",
       "      <td>Anion Gap</td>\n",
       "      <td>chemistry</td>\n",
       "      <td>2135-05-09 10:45:00</td>\n",
       "      <td>TRAIN</td>\n",
       "      <td>75</td>\n",
       "      <td>17</td>\n",
       "      <td>3.0</td>\n",
       "      <td>785.51</td>\n",
       "      <td>2135-05-09 14:11:00</td>\n",
       "      <td>2135-05-13 14:40:00</td>\n",
       "      <td>0.0</td>\n",
       "    </tr>\n",
       "    <tr>\n",
       "      <th>3</th>\n",
       "      <td>161087.0</td>\n",
       "      <td>Anion Gap</td>\n",
       "      <td>chemistry</td>\n",
       "      <td>2135-05-09 10:45:00</td>\n",
       "      <td>TRAIN</td>\n",
       "      <td>76</td>\n",
       "      <td>17</td>\n",
       "      <td>4.0</td>\n",
       "      <td>458.9</td>\n",
       "      <td>2135-05-09 14:11:00</td>\n",
       "      <td>2135-05-13 14:40:00</td>\n",
       "      <td>0.0</td>\n",
       "    </tr>\n",
       "    <tr>\n",
       "      <th>4</th>\n",
       "      <td>161087.0</td>\n",
       "      <td>Anion Gap</td>\n",
       "      <td>chemistry</td>\n",
       "      <td>2135-05-09 10:45:00</td>\n",
       "      <td>TRAIN</td>\n",
       "      <td>77</td>\n",
       "      <td>17</td>\n",
       "      <td>5.0</td>\n",
       "      <td>311</td>\n",
       "      <td>2135-05-09 14:11:00</td>\n",
       "      <td>2135-05-13 14:40:00</td>\n",
       "      <td>0.0</td>\n",
       "    </tr>\n",
       "  </tbody>\n",
       "</table>\n",
       "</div>"
      ],
      "text/plain": [
       "    HADM_ID      LABEL   CATEGORY            CHARTTIME SPLIT_50  ROW_ID  \\\n",
       "0  161087.0  Anion Gap  chemistry  2135-05-09 10:45:00    TRAIN      73   \n",
       "1  161087.0  Anion Gap  chemistry  2135-05-09 10:45:00    TRAIN      74   \n",
       "2  161087.0  Anion Gap  chemistry  2135-05-09 10:45:00    TRAIN      75   \n",
       "3  161087.0  Anion Gap  chemistry  2135-05-09 10:45:00    TRAIN      76   \n",
       "4  161087.0  Anion Gap  chemistry  2135-05-09 10:45:00    TRAIN      77   \n",
       "\n",
       "   SUBJECT_ID  SEQ_NUM ICD9_CODE            ADMITTIME            DISCHTIME  \\\n",
       "0          17      1.0     423.9  2135-05-09 14:11:00  2135-05-13 14:40:00   \n",
       "1          17      2.0     511.9  2135-05-09 14:11:00  2135-05-13 14:40:00   \n",
       "2          17      3.0    785.51  2135-05-09 14:11:00  2135-05-13 14:40:00   \n",
       "3          17      4.0     458.9  2135-05-09 14:11:00  2135-05-13 14:40:00   \n",
       "4          17      5.0       311  2135-05-09 14:11:00  2135-05-13 14:40:00   \n",
       "\n",
       "   PROP_ELAPSED  \n",
       "0           0.0  \n",
       "1           0.0  \n",
       "2           0.0  \n",
       "3           0.0  \n",
       "4           0.0  "
      ]
     },
     "execution_count": 14,
     "metadata": {},
     "output_type": "execute_result"
    }
   ],
   "source": [
    "lab_time.head()"
   ]
  },
  {
   "cell_type": "code",
   "execution_count": 13,
   "metadata": {},
   "outputs": [
    {
     "ename": "TypeError",
     "evalue": "Legend.set_frame_on() missing 1 required positional argument: 'b'",
     "output_type": "error",
     "traceback": [
      "\u001b[0;31m---------------------------------------------------------------------------\u001b[0m",
      "\u001b[0;31mTypeError\u001b[0m                                 Traceback (most recent call last)",
      "Cell \u001b[0;32mIn[13], line 11\u001b[0m\n\u001b[1;32m      9\u001b[0m \u001b[38;5;66;03m# Additional formatting\u001b[39;00m\n\u001b[1;32m     10\u001b[0m sns\u001b[38;5;241m.\u001b[39mdespine()\n\u001b[0;32m---> 11\u001b[0m \u001b[43max\u001b[49m\u001b[38;5;241;43m.\u001b[39;49m\u001b[43mget_legend\u001b[49m\u001b[43m(\u001b[49m\u001b[43m)\u001b[49m\u001b[38;5;241;43m.\u001b[39;49m\u001b[43mset_frame_on\u001b[49m\u001b[43m(\u001b[49m\u001b[43m)\u001b[49m\n\u001b[1;32m     13\u001b[0m plt\u001b[38;5;241m.\u001b[39mxlabel(\u001b[38;5;124m'\u001b[39m\u001b[38;5;124mProportion of stay elapsed\u001b[39m\u001b[38;5;124m'\u001b[39m)\n\u001b[1;32m     14\u001b[0m plt\u001b[38;5;241m.\u001b[39mylabel(\u001b[38;5;124m'\u001b[39m\u001b[38;5;124mCount\u001b[39m\u001b[38;5;124m'\u001b[39m)\n",
      "\u001b[0;31mTypeError\u001b[0m: Legend.set_frame_on() missing 1 required positional argument: 'b'"
     ]
    },
    {
     "data": {
      "image/png": "[encoded data removed]",
      "text/plain": [
       "<Figure size 1000x400 with 1 Axes>"
      ]
     },
     "metadata": {},
     "output_type": "display_data"
    }
   ],
   "source": [
    "# by category\n",
    "sns.set_theme()\n",
    "fig, ax = plt.subplots(figsize=(10,4))\n",
    "sns.histplot(data=lab_time, x='PROP_ELAPSED', hue='CATEGORY', discrete=False,\n",
    "             edgecolor='white', palette='pastel', alpha=1,  bins=20)\n",
    "\n",
    "# Create x ticks covering the range of all integer values of df['value']\n",
    "ax.set_xticks(np.arange(0, 1, step=0.1))\n",
    "\n",
    "# Additional formatting\n",
    "sns.despine()\n",
    "ax.get_legend().set_frame_on(True)\n",
    "\n",
    "plt.xlabel('Proportion of stay elapsed')\n",
    "plt.ylabel('Count')\n",
    "plt.title('Lab tests by category over stay duration')\n",
    "plt.show()"
   ]
  },
  {
   "cell_type": "markdown",
   "metadata": {},
   "source": [
    "### Overlap with notes"
   ]
  },
  {
   "cell_type": "code",
   "execution_count": 18,
   "metadata": {},
   "outputs": [],
   "source": [
    "notes_time = NOTEEVENTS.merge(stay_info, on='HADM_ID', how='inner')\n",
    "notes_time = notes_time[(pd.to_datetime(notes_time['ADMITTIME']) < pd.to_datetime(notes_time['DISCHTIME'])) & (pd.to_datetime(notes_time['CHARTTIME']) < pd.to_datetime(notes_time['DISCHTIME']))]\n",
    "notes_time['PROP_ELAPSED'] = (pd.to_datetime(notes_time['CHARTTIME']) - pd.to_datetime(notes_time['ADMITTIME'])) / (pd.to_datetime(notes_time['DISCHTIME']) - pd.to_datetime(notes_time['ADMITTIME']))\n",
    "notes_time.loc[notes_time['PROP_ELAPSED'] < 0, 'PROP_ELAPSED'] = 0"
   ]
  },
  {
   "cell_type": "code",
   "execution_count": 49,
   "metadata": {},
   "outputs": [
    {
     "data": {
      "image/png": "[encoded data removed]",
      "text/plain": [
       "<Figure size 640x480 with 1 Axes>"
      ]
     },
     "metadata": {},
     "output_type": "display_data"
    }
   ],
   "source": [
    "sns.set_theme()\n",
    "plt.hist(lab_time['PROP_ELAPSED'], bins=20, alpha=0.5, color='blue', label='lab')\n",
    "plt.hist(notes_time['PROP_ELAPSED'], bins=20, alpha=0.5, color='red', label='notes')\n",
    "plt.xlabel('Proportion of stay elapsed')\n",
    "plt.ylabel('Count')\n",
    "plt.legend(title='Data source')\n",
    "plt.title('Distribution of data sources over hospital stay')\n",
    "plt.show()"
   ]
  },
  {
   "cell_type": "code",
   "execution_count": 48,
   "metadata": {},
   "outputs": [
    {
     "data": {
      "image/png": "[encoded data removed]",
      "text/plain": [
       "<Figure size 640x480 with 1 Axes>"
      ]
     },
     "metadata": {},
     "output_type": "display_data"
    }
   ],
   "source": [
    "sns.set_theme()\n",
    "plt.hist(lab_time['PROP_ELAPSED'], density=True, bins=20, alpha=0.5, color='blue', label='lab')\n",
    "plt.hist(notes_time['PROP_ELAPSED'], density=True, bins=20, alpha=0.5, color='red', label='notes')\n",
    "plt.xlabel('Proportion of stay elapsed')\n",
    "plt.ylabel('Frequency')\n",
    "plt.legend(title='Data source')\n",
    "plt.title('Distribution of data sources over hospital stay')\n",
    "plt.show()"
   ]
  },
  {
   "cell_type": "code",
   "execution_count": 50,
   "metadata": {},
   "outputs": [
    {
     "data": {
      "text/plain": [
       "99.0592915121217"
      ]
     },
     "execution_count": 50,
     "metadata": {},
     "output_type": "execute_result"
    }
   ],
   "source": [
    "len(list((collections.Counter(lab_time['HADM_ID'].unique()) & collections.Counter(notes_time['HADM_ID'].unique())).elements()))/len(notes_time['HADM_ID'].unique()) * 100"
   ]
  },
  {
   "cell_type": "code",
   "execution_count": 30,
   "metadata": {},
   "outputs": [
    {
     "data": {
      "image/png": "[encoded data removed]",
      "text/plain": [
       "<Figure size 640x480 with 1 Axes>"
      ]
     },
     "metadata": {},
     "output_type": "display_data"
    }
   ],
   "source": [
    "sns.set_theme()\n",
    "plt.hist(lab_time['PROP_ELAPSED'], weights=np.zeros_like(lab_time['PROP_ELAPSED']) + 1. / lab_time['PROP_ELAPSED'].size, bins=20, alpha=0.5, color='blue', label='lab')\n",
    "plt.hist(notes_time['PROP_ELAPSED'], weights=np.zeros_like(notes_time['PROP_ELAPSED']) + 1. / notes_time['PROP_ELAPSED'].size, bins=20, alpha=0.5, color='red', label='notes')\n",
    "plt.xlim(0,1)\n",
    "plt.xlabel('Proportion of stay elapsed')\n",
    "plt.ylabel('Frequency')\n",
    "plt.legend(title='Data source')\n",
    "plt.title('Distribution of data sources over hospital stay')\n",
    "plt.show()"
   ]
  },
  {
   "cell_type": "markdown",
   "metadata": {},
   "source": [
    "## Note Events"
   ]
  },
  {
   "cell_type": "code",
   "execution_count": 9,
   "metadata": {},
   "outputs": [
    {
     "name": "stderr",
     "output_type": "stream",
     "text": [
      "/var/folders/dx/vf7v90ms0yddzdx3cv6z9lkr0000gn/T/ipykernel_81703/1021152577.py:1: DtypeWarning: Columns (4,5) have mixed types. Specify dtype option on import or set low_memory=False.\n",
      "  NOTEEVENTS = pd.read_csv(os.path.join(dataset_path,\"NOTEEVENTS.csv\"))\n"
     ]
    }
   ],
   "source": [
    "NOTEEVENTS = pd.read_csv(os.path.join(dataset_path,\"NOTEEVENTS.csv\"))\n",
    "# adm_notes = NOTEEVENTS.merge(LABEL_SPLITS, on='HADM_ID', how='inner')\n",
    "# adm_notes = adm_notes.loc[adm_notes['SPLIT_50'] == 'TRAIN']"
   ]
  },
  {
   "cell_type": "code",
   "execution_count": 10,
   "metadata": {},
   "outputs": [
    {
     "name": "stderr",
     "output_type": "stream",
     "text": [
      "/var/folders/dx/vf7v90ms0yddzdx3cv6z9lkr0000gn/T/ipykernel_81703/3290175477.py:2: SettingWithCopyWarning: \n",
      "A value is trying to be set on a copy of a slice from a DataFrame.\n",
      "Try using .loc[row_indexer,col_indexer] = value instead\n",
      "\n",
      "See the caveats in the documentation: https://pandas.pydata.org/pandas-docs/stable/user_guide/indexing.html#returning-a-view-versus-a-copy\n",
      "  adm_notes[\"HADM_ID\"] = adm_notes[\"HADM_ID\"].apply(int)\n",
      "/var/folders/dx/vf7v90ms0yddzdx3cv6z9lkr0000gn/T/ipykernel_81703/3290175477.py:3: SettingWithCopyWarning: \n",
      "A value is trying to be set on a copy of a slice from a DataFrame.\n",
      "Try using .loc[row_indexer,col_indexer] = value instead\n",
      "\n",
      "See the caveats in the documentation: https://pandas.pydata.org/pandas-docs/stable/user_guide/indexing.html#returning-a-view-versus-a-copy\n",
      "  adm_notes.CHARTTIME = adm_notes.CHARTTIME.fillna(\n",
      "/var/folders/dx/vf7v90ms0yddzdx3cv6z9lkr0000gn/T/ipykernel_81703/3290175477.py:6: SettingWithCopyWarning: \n",
      "A value is trying to be set on a copy of a slice from a DataFrame.\n",
      "Try using .loc[row_indexer,col_indexer] = value instead\n",
      "\n",
      "See the caveats in the documentation: https://pandas.pydata.org/pandas-docs/stable/user_guide/indexing.html#returning-a-view-versus-a-copy\n",
      "  adm_notes[\"CHARTTIME\"] = pd.to_datetime(adm_notes.CHARTTIME)\n"
     ]
    }
   ],
   "source": [
    "adm_notes = NOTEEVENTS[NOTEEVENTS.HADM_ID.isna() == False]\n",
    "adm_notes[\"HADM_ID\"] = adm_notes[\"HADM_ID\"].apply(int)\n",
    "adm_notes.CHARTTIME = adm_notes.CHARTTIME.fillna(\n",
    "            adm_notes.CHARTDATE + \" 12:00:00\"\n",
    "        )\n",
    "adm_notes[\"CHARTTIME\"] = pd.to_datetime(adm_notes.CHARTTIME)"
   ]
  },
  {
   "cell_type": "code",
   "execution_count": 11,
   "metadata": {},
   "outputs": [],
   "source": [
    "LABEL_SPLITS[\"HADM_ID\"] = LABEL_SPLITS[\"HADM_ID\"].apply(int)\n",
    "LABEL_SPLITS = LABEL_SPLITS[['HADM_ID','SPLIT_50']].drop_duplicates()"
   ]
  },
  {
   "cell_type": "code",
   "execution_count": 12,
   "metadata": {},
   "outputs": [],
   "source": [
    "adm_notes = adm_notes.merge(LABEL_SPLITS[['HADM_ID', 'SPLIT_50']], on='HADM_ID', how='inner')\n",
    "adm_notes = adm_notes.loc[adm_notes['SPLIT_50'] == 'TRAIN']"
   ]
  },
  {
   "cell_type": "code",
   "execution_count": 13,
   "metadata": {},
   "outputs": [
    {
     "data": {
      "text/html": [
       "<div>\n",
       "<style scoped>\n",
       "    .dataframe tbody tr th:only-of-type {\n",
       "        vertical-align: middle;\n",
       "    }\n",
       "\n",
       "    .dataframe tbody tr th {\n",
       "        vertical-align: top;\n",
       "    }\n",
       "\n",
       "    .dataframe thead th {\n",
       "        text-align: right;\n",
       "    }\n",
       "</style>\n",
       "<table border=\"1\" class=\"dataframe\">\n",
       "  <thead>\n",
       "    <tr style=\"text-align: right;\">\n",
       "      <th></th>\n",
       "      <th>ROW_ID</th>\n",
       "      <th>SUBJECT_ID</th>\n",
       "      <th>HADM_ID</th>\n",
       "      <th>CHARTDATE</th>\n",
       "      <th>CHARTTIME</th>\n",
       "      <th>STORETIME</th>\n",
       "      <th>CATEGORY</th>\n",
       "      <th>DESCRIPTION</th>\n",
       "      <th>CGID</th>\n",
       "      <th>ISERROR</th>\n",
       "      <th>TEXT</th>\n",
       "      <th>SPLIT_50</th>\n",
       "    </tr>\n",
       "  </thead>\n",
       "  <tbody>\n",
       "    <tr>\n",
       "      <th>0</th>\n",
       "      <td>185</td>\n",
       "      <td>1136</td>\n",
       "      <td>139574</td>\n",
       "      <td>2192-05-23</td>\n",
       "      <td>2192-05-23 12:00:00</td>\n",
       "      <td>NaN</td>\n",
       "      <td>Discharge summary</td>\n",
       "      <td>Report</td>\n",
       "      <td>NaN</td>\n",
       "      <td>NaN</td>\n",
       "      <td>Admission Date:  [**2192-4-19**]              ...</td>\n",
       "      <td>TRAIN</td>\n",
       "    </tr>\n",
       "    <tr>\n",
       "      <th>1</th>\n",
       "      <td>227</td>\n",
       "      <td>10044</td>\n",
       "      <td>124073</td>\n",
       "      <td>2152-10-11</td>\n",
       "      <td>2152-10-11 12:00:00</td>\n",
       "      <td>NaN</td>\n",
       "      <td>Discharge summary</td>\n",
       "      <td>Report</td>\n",
       "      <td>NaN</td>\n",
       "      <td>NaN</td>\n",
       "      <td>Admission Date:  [**2152-10-2**]       Dischar...</td>\n",
       "      <td>TRAIN</td>\n",
       "    </tr>\n",
       "    <tr>\n",
       "      <th>2</th>\n",
       "      <td>187</td>\n",
       "      <td>1136</td>\n",
       "      <td>136706</td>\n",
       "      <td>2194-08-16</td>\n",
       "      <td>2194-08-16 12:00:00</td>\n",
       "      <td>NaN</td>\n",
       "      <td>Discharge summary</td>\n",
       "      <td>Report</td>\n",
       "      <td>NaN</td>\n",
       "      <td>NaN</td>\n",
       "      <td>Admission Date:  [**2194-8-15**]              ...</td>\n",
       "      <td>TRAIN</td>\n",
       "    </tr>\n",
       "    <tr>\n",
       "      <th>4</th>\n",
       "      <td>190</td>\n",
       "      <td>9590</td>\n",
       "      <td>132347</td>\n",
       "      <td>2102-03-10</td>\n",
       "      <td>2102-03-10 12:00:00</td>\n",
       "      <td>NaN</td>\n",
       "      <td>Discharge summary</td>\n",
       "      <td>Report</td>\n",
       "      <td>NaN</td>\n",
       "      <td>NaN</td>\n",
       "      <td>Admission Date:  [**2102-2-19**]       Dischar...</td>\n",
       "      <td>TRAIN</td>\n",
       "    </tr>\n",
       "    <tr>\n",
       "      <th>5</th>\n",
       "      <td>191</td>\n",
       "      <td>26175</td>\n",
       "      <td>156154</td>\n",
       "      <td>2112-05-05</td>\n",
       "      <td>2112-05-05 12:00:00</td>\n",
       "      <td>NaN</td>\n",
       "      <td>Discharge summary</td>\n",
       "      <td>Report</td>\n",
       "      <td>NaN</td>\n",
       "      <td>NaN</td>\n",
       "      <td>Admission Date:  [**2112-4-22**]              ...</td>\n",
       "      <td>TRAIN</td>\n",
       "    </tr>\n",
       "    <tr>\n",
       "      <th>...</th>\n",
       "      <td>...</td>\n",
       "      <td>...</td>\n",
       "      <td>...</td>\n",
       "      <td>...</td>\n",
       "      <td>...</td>\n",
       "      <td>...</td>\n",
       "      <td>...</td>\n",
       "      <td>...</td>\n",
       "      <td>...</td>\n",
       "      <td>...</td>\n",
       "      <td>...</td>\n",
       "      <td>...</td>\n",
       "    </tr>\n",
       "    <tr>\n",
       "      <th>380031</th>\n",
       "      <td>2077081</td>\n",
       "      <td>31762</td>\n",
       "      <td>133669</td>\n",
       "      <td>2159-09-22</td>\n",
       "      <td>2159-09-22 02:32:00</td>\n",
       "      <td>2159-09-22 02:40:00</td>\n",
       "      <td>Nursing/other</td>\n",
       "      <td>Report</td>\n",
       "      <td>18249.0</td>\n",
       "      <td>NaN</td>\n",
       "      <td>NICU NPN  1900-0700\\n\\nFluid and Nutrition\\nIn...</td>\n",
       "      <td>TRAIN</td>\n",
       "    </tr>\n",
       "    <tr>\n",
       "      <th>380032</th>\n",
       "      <td>2077082</td>\n",
       "      <td>31762</td>\n",
       "      <td>133669</td>\n",
       "      <td>2159-09-22</td>\n",
       "      <td>2159-09-22 12:48:00</td>\n",
       "      <td>2159-09-22 12:51:00</td>\n",
       "      <td>Nursing/other</td>\n",
       "      <td>Report</td>\n",
       "      <td>18056.0</td>\n",
       "      <td>NaN</td>\n",
       "      <td>Neonatology Attending Note\\nDOL# 10, CGA 35 [*...</td>\n",
       "      <td>TRAIN</td>\n",
       "    </tr>\n",
       "    <tr>\n",
       "      <th>380033</th>\n",
       "      <td>2077083</td>\n",
       "      <td>31762</td>\n",
       "      <td>133669</td>\n",
       "      <td>2159-09-22</td>\n",
       "      <td>2159-09-22 14:28:00</td>\n",
       "      <td>2159-09-22 14:29:00</td>\n",
       "      <td>Nursing/other</td>\n",
       "      <td>Report</td>\n",
       "      <td>18255.0</td>\n",
       "      <td>NaN</td>\n",
       "      <td>Neonatology-NNP Progress Note\\nPE: [**Known la...</td>\n",
       "      <td>TRAIN</td>\n",
       "    </tr>\n",
       "    <tr>\n",
       "      <th>380034</th>\n",
       "      <td>2077680</td>\n",
       "      <td>31873</td>\n",
       "      <td>165468</td>\n",
       "      <td>2164-11-25</td>\n",
       "      <td>2164-11-25 01:36:00</td>\n",
       "      <td>2164-11-25 01:45:00</td>\n",
       "      <td>Nursing/other</td>\n",
       "      <td>Report</td>\n",
       "      <td>15370.0</td>\n",
       "      <td>NaN</td>\n",
       "      <td>Nursing Progress Note\\n\\n\\n#1 Resp\\n\\nO; Infan...</td>\n",
       "      <td>TRAIN</td>\n",
       "    </tr>\n",
       "    <tr>\n",
       "      <th>380035</th>\n",
       "      <td>2077681</td>\n",
       "      <td>31873</td>\n",
       "      <td>165468</td>\n",
       "      <td>2164-11-25</td>\n",
       "      <td>2164-11-25 05:37:00</td>\n",
       "      <td>2164-11-25 05:39:00</td>\n",
       "      <td>Nursing/other</td>\n",
       "      <td>Report</td>\n",
       "      <td>20104.0</td>\n",
       "      <td>NaN</td>\n",
       "      <td>[** 82**] On-Call\\nPhysical Exam\\nGeneral: inf...</td>\n",
       "      <td>TRAIN</td>\n",
       "    </tr>\n",
       "  </tbody>\n",
       "</table>\n",
       "<p>284267 rows × 12 columns</p>\n",
       "</div>"
      ],
      "text/plain": [
       "         ROW_ID  SUBJECT_ID  HADM_ID   CHARTDATE           CHARTTIME  \\\n",
       "0           185        1136   139574  2192-05-23 2192-05-23 12:00:00   \n",
       "1           227       10044   124073  2152-10-11 2152-10-11 12:00:00   \n",
       "2           187        1136   136706  2194-08-16 2194-08-16 12:00:00   \n",
       "4           190        9590   132347  2102-03-10 2102-03-10 12:00:00   \n",
       "5           191       26175   156154  2112-05-05 2112-05-05 12:00:00   \n",
       "...         ...         ...      ...         ...                 ...   \n",
       "380031  2077081       31762   133669  2159-09-22 2159-09-22 02:32:00   \n",
       "380032  2077082       31762   133669  2159-09-22 2159-09-22 12:48:00   \n",
       "380033  2077083       31762   133669  2159-09-22 2159-09-22 14:28:00   \n",
       "380034  2077680       31873   165468  2164-11-25 2164-11-25 01:36:00   \n",
       "380035  2077681       31873   165468  2164-11-25 2164-11-25 05:37:00   \n",
       "\n",
       "                  STORETIME           CATEGORY DESCRIPTION     CGID  ISERROR  \\\n",
       "0                       NaN  Discharge summary      Report      NaN      NaN   \n",
       "1                       NaN  Discharge summary      Report      NaN      NaN   \n",
       "2                       NaN  Discharge summary      Report      NaN      NaN   \n",
       "4                       NaN  Discharge summary      Report      NaN      NaN   \n",
       "5                       NaN  Discharge summary      Report      NaN      NaN   \n",
       "...                     ...                ...         ...      ...      ...   \n",
       "380031  2159-09-22 02:40:00      Nursing/other      Report  18249.0      NaN   \n",
       "380032  2159-09-22 12:51:00      Nursing/other      Report  18056.0      NaN   \n",
       "380033  2159-09-22 14:29:00      Nursing/other      Report  18255.0      NaN   \n",
       "380034  2164-11-25 01:45:00      Nursing/other      Report  15370.0      NaN   \n",
       "380035  2164-11-25 05:39:00      Nursing/other      Report  20104.0      NaN   \n",
       "\n",
       "                                                     TEXT SPLIT_50  \n",
       "0       Admission Date:  [**2192-4-19**]              ...    TRAIN  \n",
       "1       Admission Date:  [**2152-10-2**]       Dischar...    TRAIN  \n",
       "2       Admission Date:  [**2194-8-15**]              ...    TRAIN  \n",
       "4       Admission Date:  [**2102-2-19**]       Dischar...    TRAIN  \n",
       "5       Admission Date:  [**2112-4-22**]              ...    TRAIN  \n",
       "...                                                   ...      ...  \n",
       "380031  NICU NPN  1900-0700\\n\\nFluid and Nutrition\\nIn...    TRAIN  \n",
       "380032  Neonatology Attending Note\\nDOL# 10, CGA 35 [*...    TRAIN  \n",
       "380033  Neonatology-NNP Progress Note\\nPE: [**Known la...    TRAIN  \n",
       "380034  Nursing Progress Note\\n\\n\\n#1 Resp\\n\\nO; Infan...    TRAIN  \n",
       "380035  [** 82**] On-Call\\nPhysical Exam\\nGeneral: inf...    TRAIN  \n",
       "\n",
       "[284267 rows x 12 columns]"
      ]
     },
     "execution_count": 13,
     "metadata": {},
     "output_type": "execute_result"
    }
   ],
   "source": [
    "adm_notes"
   ]
  },
  {
   "cell_type": "code",
   "execution_count": 14,
   "metadata": {},
   "outputs": [],
   "source": [
    "admission_time = adm_notes.groupby('HADM_ID')['CHARTTIME'].min().reset_index()\n",
    "admission_time.rename(columns={'CHARTTIME': 'ADMITTIME'}, inplace=True)"
   ]
  },
  {
   "cell_type": "code",
   "execution_count": 15,
   "metadata": {},
   "outputs": [],
   "source": [
    "discharge_time = adm_notes[adm_notes.CATEGORY=='Discharge summary'].groupby('HADM_ID')['CHARTTIME'].min().reset_index()\n",
    "discharge_time.rename(columns={'CHARTTIME': 'DISCHTIME'}, inplace=True)\n",
    "stay_info = admission_time.merge(discharge_time, on='HADM_ID', how='inner')"
   ]
  },
  {
   "cell_type": "code",
   "execution_count": 16,
   "metadata": {},
   "outputs": [
    {
     "name": "stdout",
     "output_type": "stream",
     "text": [
      "284267\n",
      "0\n",
      "258980\n"
     ]
    }
   ],
   "source": [
    "print(len(adm_notes))\n",
    "note_time = adm_notes.merge(stay_info, on='HADM_ID', how='inner')\n",
    "note_time = note_time[(pd.to_datetime(note_time['ADMITTIME']) < pd.to_datetime(note_time['DISCHTIME'])) & (pd.to_datetime(note_time['CHARTTIME']) < pd.to_datetime(note_time['DISCHTIME']))]\n",
    "note_time['PROP_ELAPSED'] = (pd.to_datetime(note_time['CHARTTIME']) - pd.to_datetime(note_time['ADMITTIME'])) / (pd.to_datetime(note_time['DISCHTIME']) - pd.to_datetime(note_time['ADMITTIME']))\n",
    "print(len(note_time[note_time['PROP_ELAPSED'] < 0]))\n",
    "note_time.loc[note_time['PROP_ELAPSED'] < 0, 'PROP_ELAPSED'] = 0\n",
    "print(len(note_time))"
   ]
  },
  {
   "cell_type": "code",
   "execution_count": 19,
   "metadata": {},
   "outputs": [],
   "source": [
    "note_time['TIME_ELAPSED'] = (pd.to_datetime(note_time['CHARTTIME']) - pd.to_datetime(note_time['ADMITTIME'])).clip(lower=pd.Timedelta(0))\n",
    "note_time[\"HOURS_ELAPSED\"] = note_time[\"TIME_ELAPSED\"].dt.total_seconds() / 3600.0\n",
    "note_time[\"cutoff\"] = vectorized_hour_to_cutoff(note_time[\"HOURS_ELAPSED\"])"
   ]
  },
  {
   "cell_type": "code",
   "execution_count": 20,
   "metadata": {},
   "outputs": [
    {
     "data": {
      "text/plain": [
       "7979"
      ]
     },
     "execution_count": 20,
     "metadata": {},
     "output_type": "execute_result"
    }
   ],
   "source": [
    "note_time[note_time[\"HOURS_ELAPSED\"] < 312].HADM_ID.nunique()"
   ]
  },
  {
   "cell_type": "code",
   "execution_count": 28,
   "metadata": {},
   "outputs": [],
   "source": []
  },
  {
   "cell_type": "code",
   "execution_count": 60,
   "metadata": {},
   "outputs": [
    {
     "data": {
      "text/plain": [
       "7979"
      ]
     },
     "execution_count": 60,
     "metadata": {},
     "output_type": "execute_result"
    }
   ],
   "source": [
    "test = note_time.groupby(['HADM_ID', 'cutoff']).size().reset_index()\n",
    "test[test['cutoff'].isin([2,5,13,0])]['HADM_ID'].nunique()"
   ]
  },
  {
   "cell_type": "code",
   "execution_count": 57,
   "metadata": {},
   "outputs": [
    {
     "data": {
      "text/html": [
       "<div>\n",
       "<style scoped>\n",
       "    .dataframe tbody tr th:only-of-type {\n",
       "        vertical-align: middle;\n",
       "    }\n",
       "\n",
       "    .dataframe tbody tr th {\n",
       "        vertical-align: top;\n",
       "    }\n",
       "\n",
       "    .dataframe thead th {\n",
       "        text-align: right;\n",
       "    }\n",
       "</style>\n",
       "<table border=\"1\" class=\"dataframe\">\n",
       "  <thead>\n",
       "    <tr style=\"text-align: right;\">\n",
       "      <th></th>\n",
       "      <th>HADM_ID</th>\n",
       "      <th>cutoff</th>\n",
       "      <th>0</th>\n",
       "    </tr>\n",
       "  </thead>\n",
       "  <tbody>\n",
       "    <tr>\n",
       "      <th>0</th>\n",
       "      <td>100006</td>\n",
       "      <td>2</td>\n",
       "      <td>7</td>\n",
       "    </tr>\n",
       "    <tr>\n",
       "      <th>1</th>\n",
       "      <td>100006</td>\n",
       "      <td>5</td>\n",
       "      <td>10</td>\n",
       "    </tr>\n",
       "    <tr>\n",
       "      <th>2</th>\n",
       "      <td>100006</td>\n",
       "      <td>13</td>\n",
       "      <td>3</td>\n",
       "    </tr>\n",
       "    <tr>\n",
       "      <th>3</th>\n",
       "      <td>100029</td>\n",
       "      <td>0</td>\n",
       "      <td>7</td>\n",
       "    </tr>\n",
       "    <tr>\n",
       "      <th>4</th>\n",
       "      <td>100029</td>\n",
       "      <td>2</td>\n",
       "      <td>11</td>\n",
       "    </tr>\n",
       "    <tr>\n",
       "      <th>...</th>\n",
       "      <td>...</td>\n",
       "      <td>...</td>\n",
       "      <td>...</td>\n",
       "    </tr>\n",
       "    <tr>\n",
       "      <th>19667</th>\n",
       "      <td>199971</td>\n",
       "      <td>5</td>\n",
       "      <td>1</td>\n",
       "    </tr>\n",
       "    <tr>\n",
       "      <th>19668</th>\n",
       "      <td>199995</td>\n",
       "      <td>0</td>\n",
       "      <td>1</td>\n",
       "    </tr>\n",
       "    <tr>\n",
       "      <th>19669</th>\n",
       "      <td>199995</td>\n",
       "      <td>2</td>\n",
       "      <td>6</td>\n",
       "    </tr>\n",
       "    <tr>\n",
       "      <th>19670</th>\n",
       "      <td>199995</td>\n",
       "      <td>5</td>\n",
       "      <td>2</td>\n",
       "    </tr>\n",
       "    <tr>\n",
       "      <th>19671</th>\n",
       "      <td>199995</td>\n",
       "      <td>13</td>\n",
       "      <td>17</td>\n",
       "    </tr>\n",
       "  </tbody>\n",
       "</table>\n",
       "<p>19672 rows × 3 columns</p>\n",
       "</div>"
      ],
      "text/plain": [
       "       HADM_ID  cutoff   0\n",
       "0       100006       2   7\n",
       "1       100006       5  10\n",
       "2       100006      13   3\n",
       "3       100029       0   7\n",
       "4       100029       2  11\n",
       "...        ...     ...  ..\n",
       "19667   199971       5   1\n",
       "19668   199995       0   1\n",
       "19669   199995       2   6\n",
       "19670   199995       5   2\n",
       "19671   199995      13  17\n",
       "\n",
       "[19672 rows x 3 columns]"
      ]
     },
     "execution_count": 57,
     "metadata": {},
     "output_type": "execute_result"
    }
   ],
   "source": [
    "note_time.groupby(['HADM_ID', 'cutoff']).size().reset_index()"
   ]
  },
  {
   "cell_type": "code",
   "execution_count": 21,
   "metadata": {},
   "outputs": [
    {
     "data": {
      "text/html": [
       "<div>\n",
       "<style scoped>\n",
       "    .dataframe tbody tr th:only-of-type {\n",
       "        vertical-align: middle;\n",
       "    }\n",
       "\n",
       "    .dataframe tbody tr th {\n",
       "        vertical-align: top;\n",
       "    }\n",
       "\n",
       "    .dataframe thead tr th {\n",
       "        text-align: left;\n",
       "    }\n",
       "\n",
       "    .dataframe thead tr:last-of-type th {\n",
       "        text-align: right;\n",
       "    }\n",
       "</style>\n",
       "<table border=\"1\" class=\"dataframe\">\n",
       "  <thead>\n",
       "    <tr>\n",
       "      <th></th>\n",
       "      <th colspan=\"8\" halign=\"left\">0</th>\n",
       "    </tr>\n",
       "    <tr>\n",
       "      <th></th>\n",
       "      <th>count</th>\n",
       "      <th>mean</th>\n",
       "      <th>std</th>\n",
       "      <th>min</th>\n",
       "      <th>25%</th>\n",
       "      <th>50%</th>\n",
       "      <th>75%</th>\n",
       "      <th>max</th>\n",
       "    </tr>\n",
       "    <tr>\n",
       "      <th>cutoff</th>\n",
       "      <th></th>\n",
       "      <th></th>\n",
       "      <th></th>\n",
       "      <th></th>\n",
       "      <th></th>\n",
       "      <th></th>\n",
       "      <th></th>\n",
       "      <th></th>\n",
       "    </tr>\n",
       "  </thead>\n",
       "  <tbody>\n",
       "    <tr>\n",
       "      <th>0</th>\n",
       "      <td>1521.0</td>\n",
       "      <td>43.285996</td>\n",
       "      <td>84.029140</td>\n",
       "      <td>1.0</td>\n",
       "      <td>3.0</td>\n",
       "      <td>13.0</td>\n",
       "      <td>46.0</td>\n",
       "      <td>923.0</td>\n",
       "    </tr>\n",
       "    <tr>\n",
       "      <th>2</th>\n",
       "      <td>7979.0</td>\n",
       "      <td>9.537661</td>\n",
       "      <td>7.834953</td>\n",
       "      <td>1.0</td>\n",
       "      <td>4.0</td>\n",
       "      <td>7.0</td>\n",
       "      <td>12.0</td>\n",
       "      <td>60.0</td>\n",
       "    </tr>\n",
       "    <tr>\n",
       "      <th>5</th>\n",
       "      <td>6090.0</td>\n",
       "      <td>8.755829</td>\n",
       "      <td>9.336609</td>\n",
       "      <td>1.0</td>\n",
       "      <td>2.0</td>\n",
       "      <td>6.0</td>\n",
       "      <td>12.0</td>\n",
       "      <td>77.0</td>\n",
       "    </tr>\n",
       "    <tr>\n",
       "      <th>13</th>\n",
       "      <td>4082.0</td>\n",
       "      <td>15.609505</td>\n",
       "      <td>20.154631</td>\n",
       "      <td>1.0</td>\n",
       "      <td>2.0</td>\n",
       "      <td>7.0</td>\n",
       "      <td>23.0</td>\n",
       "      <td>170.0</td>\n",
       "    </tr>\n",
       "  </tbody>\n",
       "</table>\n",
       "</div>"
      ],
      "text/plain": [
       "             0                                                   \n",
       "         count       mean        std  min  25%   50%   75%    max\n",
       "cutoff                                                           \n",
       "0       1521.0  43.285996  84.029140  1.0  3.0  13.0  46.0  923.0\n",
       "2       7979.0   9.537661   7.834953  1.0  4.0   7.0  12.0   60.0\n",
       "5       6090.0   8.755829   9.336609  1.0  2.0   6.0  12.0   77.0\n",
       "13      4082.0  15.609505  20.154631  1.0  2.0   7.0  23.0  170.0"
      ]
     },
     "execution_count": 21,
     "metadata": {},
     "output_type": "execute_result"
    }
   ],
   "source": [
    "note_time.groupby(['HADM_ID', 'cutoff']).size().reset_index().groupby('cutoff')[[0]].describe()"
   ]
  },
  {
   "cell_type": "markdown",
   "metadata": {},
   "source": [
    "## Microbiology Events\n",
    "### Summary statistics"
   ]
  },
  {
   "cell_type": "code",
   "execution_count": 84,
   "metadata": {},
   "outputs": [],
   "source": [
    "MICROBIOLOGYEVENTS = pd.read_csv(os.path.join(dataset_path,\"MICROBIOLOGYEVENTS.csv\"))\n",
    "D_ITEMS = pd.read_csv(os.path.join(dataset_path,\"D_ITEMS.csv\"))"
   ]
  },
  {
   "cell_type": "code",
   "execution_count": 22,
   "metadata": {},
   "outputs": [
    {
     "data": {
      "text/html": [
       "<div>\n",
       "<style scoped>\n",
       "    .dataframe tbody tr th:only-of-type {\n",
       "        vertical-align: middle;\n",
       "    }\n",
       "\n",
       "    .dataframe tbody tr th {\n",
       "        vertical-align: top;\n",
       "    }\n",
       "\n",
       "    .dataframe thead th {\n",
       "        text-align: right;\n",
       "    }\n",
       "</style>\n",
       "<table border=\"1\" class=\"dataframe\">\n",
       "  <thead>\n",
       "    <tr style=\"text-align: right;\">\n",
       "      <th></th>\n",
       "      <th>ROW_ID</th>\n",
       "      <th>SUBJECT_ID</th>\n",
       "      <th>HADM_ID</th>\n",
       "      <th>CHARTDATE</th>\n",
       "      <th>CHARTTIME</th>\n",
       "      <th>SPEC_ITEMID</th>\n",
       "      <th>SPEC_TYPE_DESC</th>\n",
       "      <th>ORG_ITEMID</th>\n",
       "      <th>ORG_NAME</th>\n",
       "      <th>ISOLATE_NUM</th>\n",
       "      <th>AB_ITEMID</th>\n",
       "      <th>AB_NAME</th>\n",
       "      <th>DILUTION_TEXT</th>\n",
       "      <th>DILUTION_COMPARISON</th>\n",
       "      <th>DILUTION_VALUE</th>\n",
       "      <th>INTERPRETATION</th>\n",
       "    </tr>\n",
       "  </thead>\n",
       "  <tbody>\n",
       "    <tr>\n",
       "      <th>0</th>\n",
       "      <td>744</td>\n",
       "      <td>96</td>\n",
       "      <td>170324</td>\n",
       "      <td>2156-04-13 00:00:00</td>\n",
       "      <td>2156-04-13 14:18:00</td>\n",
       "      <td>70021.0</td>\n",
       "      <td>BRONCHOALVEOLAR LAVAGE</td>\n",
       "      <td>80026.0</td>\n",
       "      <td>PSEUDOMONAS AERUGINOSA</td>\n",
       "      <td>1.0</td>\n",
       "      <td>NaN</td>\n",
       "      <td>NaN</td>\n",
       "      <td>NaN</td>\n",
       "      <td>NaN</td>\n",
       "      <td>NaN</td>\n",
       "      <td>NaN</td>\n",
       "    </tr>\n",
       "    <tr>\n",
       "      <th>1</th>\n",
       "      <td>745</td>\n",
       "      <td>96</td>\n",
       "      <td>170324</td>\n",
       "      <td>2156-04-20 00:00:00</td>\n",
       "      <td>2156-04-20 13:10:00</td>\n",
       "      <td>70062.0</td>\n",
       "      <td>SPUTUM</td>\n",
       "      <td>NaN</td>\n",
       "      <td>NaN</td>\n",
       "      <td>NaN</td>\n",
       "      <td>NaN</td>\n",
       "      <td>NaN</td>\n",
       "      <td>NaN</td>\n",
       "      <td>NaN</td>\n",
       "      <td>NaN</td>\n",
       "      <td>NaN</td>\n",
       "    </tr>\n",
       "    <tr>\n",
       "      <th>2</th>\n",
       "      <td>746</td>\n",
       "      <td>96</td>\n",
       "      <td>170324</td>\n",
       "      <td>2156-04-20 00:00:00</td>\n",
       "      <td>2156-04-20 16:00:00</td>\n",
       "      <td>70012.0</td>\n",
       "      <td>BLOOD CULTURE</td>\n",
       "      <td>NaN</td>\n",
       "      <td>NaN</td>\n",
       "      <td>NaN</td>\n",
       "      <td>NaN</td>\n",
       "      <td>NaN</td>\n",
       "      <td>NaN</td>\n",
       "      <td>NaN</td>\n",
       "      <td>NaN</td>\n",
       "      <td>NaN</td>\n",
       "    </tr>\n",
       "    <tr>\n",
       "      <th>3</th>\n",
       "      <td>747</td>\n",
       "      <td>96</td>\n",
       "      <td>170324</td>\n",
       "      <td>2156-04-20 00:00:00</td>\n",
       "      <td>NaN</td>\n",
       "      <td>70012.0</td>\n",
       "      <td>BLOOD CULTURE</td>\n",
       "      <td>NaN</td>\n",
       "      <td>NaN</td>\n",
       "      <td>NaN</td>\n",
       "      <td>NaN</td>\n",
       "      <td>NaN</td>\n",
       "      <td>NaN</td>\n",
       "      <td>NaN</td>\n",
       "      <td>NaN</td>\n",
       "      <td>NaN</td>\n",
       "    </tr>\n",
       "    <tr>\n",
       "      <th>4</th>\n",
       "      <td>748</td>\n",
       "      <td>96</td>\n",
       "      <td>170324</td>\n",
       "      <td>2156-04-20 00:00:00</td>\n",
       "      <td>NaN</td>\n",
       "      <td>70079.0</td>\n",
       "      <td>URINE</td>\n",
       "      <td>NaN</td>\n",
       "      <td>NaN</td>\n",
       "      <td>NaN</td>\n",
       "      <td>NaN</td>\n",
       "      <td>NaN</td>\n",
       "      <td>NaN</td>\n",
       "      <td>NaN</td>\n",
       "      <td>NaN</td>\n",
       "      <td>NaN</td>\n",
       "    </tr>\n",
       "  </tbody>\n",
       "</table>\n",
       "</div>"
      ],
      "text/plain": [
       "   ROW_ID  SUBJECT_ID  HADM_ID            CHARTDATE            CHARTTIME  \\\n",
       "0     744          96   170324  2156-04-13 00:00:00  2156-04-13 14:18:00   \n",
       "1     745          96   170324  2156-04-20 00:00:00  2156-04-20 13:10:00   \n",
       "2     746          96   170324  2156-04-20 00:00:00  2156-04-20 16:00:00   \n",
       "3     747          96   170324  2156-04-20 00:00:00                  NaN   \n",
       "4     748          96   170324  2156-04-20 00:00:00                  NaN   \n",
       "\n",
       "   SPEC_ITEMID          SPEC_TYPE_DESC  ORG_ITEMID                ORG_NAME  \\\n",
       "0      70021.0  BRONCHOALVEOLAR LAVAGE     80026.0  PSEUDOMONAS AERUGINOSA   \n",
       "1      70062.0                  SPUTUM         NaN                     NaN   \n",
       "2      70012.0           BLOOD CULTURE         NaN                     NaN   \n",
       "3      70012.0           BLOOD CULTURE         NaN                     NaN   \n",
       "4      70079.0                   URINE         NaN                     NaN   \n",
       "\n",
       "   ISOLATE_NUM  AB_ITEMID AB_NAME DILUTION_TEXT DILUTION_COMPARISON  \\\n",
       "0          1.0        NaN     NaN           NaN                 NaN   \n",
       "1          NaN        NaN     NaN           NaN                 NaN   \n",
       "2          NaN        NaN     NaN           NaN                 NaN   \n",
       "3          NaN        NaN     NaN           NaN                 NaN   \n",
       "4          NaN        NaN     NaN           NaN                 NaN   \n",
       "\n",
       "   DILUTION_VALUE INTERPRETATION  \n",
       "0             NaN            NaN  \n",
       "1             NaN            NaN  \n",
       "2             NaN            NaN  \n",
       "3             NaN            NaN  \n",
       "4             NaN            NaN  "
      ]
     },
     "execution_count": 22,
     "metadata": {},
     "output_type": "execute_result"
    }
   ],
   "source": [
    "MICROBIOLOGYEVENTS.head()"
   ]
  },
  {
   "cell_type": "code",
   "execution_count": 31,
   "metadata": {},
   "outputs": [
    {
     "data": {
      "text/html": [
       "<div>\n",
       "<style scoped>\n",
       "    .dataframe tbody tr th:only-of-type {\n",
       "        vertical-align: middle;\n",
       "    }\n",
       "\n",
       "    .dataframe tbody tr th {\n",
       "        vertical-align: top;\n",
       "    }\n",
       "\n",
       "    .dataframe thead th {\n",
       "        text-align: right;\n",
       "    }\n",
       "</style>\n",
       "<table border=\"1\" class=\"dataframe\">\n",
       "  <thead>\n",
       "    <tr style=\"text-align: right;\">\n",
       "      <th></th>\n",
       "      <th>ROW_ID</th>\n",
       "      <th>SUBJECT_ID</th>\n",
       "      <th>HADM_ID</th>\n",
       "      <th>CHARTDATE</th>\n",
       "      <th>CHARTTIME</th>\n",
       "      <th>STORETIME</th>\n",
       "      <th>CATEGORY</th>\n",
       "      <th>DESCRIPTION</th>\n",
       "      <th>CGID</th>\n",
       "      <th>ISERROR</th>\n",
       "      <th>TEXT</th>\n",
       "    </tr>\n",
       "  </thead>\n",
       "  <tbody>\n",
       "    <tr>\n",
       "      <th>0</th>\n",
       "      <td>174</td>\n",
       "      <td>22532</td>\n",
       "      <td>167853.0</td>\n",
       "      <td>2151-08-04</td>\n",
       "      <td>NaN</td>\n",
       "      <td>NaN</td>\n",
       "      <td>Discharge summary</td>\n",
       "      <td>Report</td>\n",
       "      <td>NaN</td>\n",
       "      <td>NaN</td>\n",
       "      <td>Admission Date:  [**2151-7-16**]       Dischar...</td>\n",
       "    </tr>\n",
       "    <tr>\n",
       "      <th>1</th>\n",
       "      <td>175</td>\n",
       "      <td>13702</td>\n",
       "      <td>107527.0</td>\n",
       "      <td>2118-06-14</td>\n",
       "      <td>NaN</td>\n",
       "      <td>NaN</td>\n",
       "      <td>Discharge summary</td>\n",
       "      <td>Report</td>\n",
       "      <td>NaN</td>\n",
       "      <td>NaN</td>\n",
       "      <td>Admission Date:  [**2118-6-2**]       Discharg...</td>\n",
       "    </tr>\n",
       "    <tr>\n",
       "      <th>2</th>\n",
       "      <td>176</td>\n",
       "      <td>13702</td>\n",
       "      <td>167118.0</td>\n",
       "      <td>2119-05-25</td>\n",
       "      <td>NaN</td>\n",
       "      <td>NaN</td>\n",
       "      <td>Discharge summary</td>\n",
       "      <td>Report</td>\n",
       "      <td>NaN</td>\n",
       "      <td>NaN</td>\n",
       "      <td>Admission Date:  [**2119-5-4**]              D...</td>\n",
       "    </tr>\n",
       "    <tr>\n",
       "      <th>3</th>\n",
       "      <td>177</td>\n",
       "      <td>13702</td>\n",
       "      <td>196489.0</td>\n",
       "      <td>2124-08-18</td>\n",
       "      <td>NaN</td>\n",
       "      <td>NaN</td>\n",
       "      <td>Discharge summary</td>\n",
       "      <td>Report</td>\n",
       "      <td>NaN</td>\n",
       "      <td>NaN</td>\n",
       "      <td>Admission Date:  [**2124-7-21**]              ...</td>\n",
       "    </tr>\n",
       "    <tr>\n",
       "      <th>4</th>\n",
       "      <td>178</td>\n",
       "      <td>26880</td>\n",
       "      <td>135453.0</td>\n",
       "      <td>2162-03-25</td>\n",
       "      <td>NaN</td>\n",
       "      <td>NaN</td>\n",
       "      <td>Discharge summary</td>\n",
       "      <td>Report</td>\n",
       "      <td>NaN</td>\n",
       "      <td>NaN</td>\n",
       "      <td>Admission Date:  [**2162-3-3**]              D...</td>\n",
       "    </tr>\n",
       "  </tbody>\n",
       "</table>\n",
       "</div>"
      ],
      "text/plain": [
       "   ROW_ID  SUBJECT_ID   HADM_ID   CHARTDATE CHARTTIME STORETIME  \\\n",
       "0     174       22532  167853.0  2151-08-04       NaN       NaN   \n",
       "1     175       13702  107527.0  2118-06-14       NaN       NaN   \n",
       "2     176       13702  167118.0  2119-05-25       NaN       NaN   \n",
       "3     177       13702  196489.0  2124-08-18       NaN       NaN   \n",
       "4     178       26880  135453.0  2162-03-25       NaN       NaN   \n",
       "\n",
       "            CATEGORY DESCRIPTION  CGID  ISERROR  \\\n",
       "0  Discharge summary      Report   NaN      NaN   \n",
       "1  Discharge summary      Report   NaN      NaN   \n",
       "2  Discharge summary      Report   NaN      NaN   \n",
       "3  Discharge summary      Report   NaN      NaN   \n",
       "4  Discharge summary      Report   NaN      NaN   \n",
       "\n",
       "                                                TEXT  \n",
       "0  Admission Date:  [**2151-7-16**]       Dischar...  \n",
       "1  Admission Date:  [**2118-6-2**]       Discharg...  \n",
       "2  Admission Date:  [**2119-5-4**]              D...  \n",
       "3  Admission Date:  [**2124-7-21**]              ...  \n",
       "4  Admission Date:  [**2162-3-3**]              D...  "
      ]
     },
     "execution_count": 31,
     "metadata": {},
     "output_type": "execute_result"
    }
   ],
   "source": [
    "NOTEEVENTS.head()"
   ]
  },
  {
   "cell_type": "code",
   "execution_count": 34,
   "metadata": {},
   "outputs": [
    {
     "data": {
      "text/html": [
       "<div>\n",
       "<style scoped>\n",
       "    .dataframe tbody tr th:only-of-type {\n",
       "        vertical-align: middle;\n",
       "    }\n",
       "\n",
       "    .dataframe tbody tr th {\n",
       "        vertical-align: top;\n",
       "    }\n",
       "\n",
       "    .dataframe thead th {\n",
       "        text-align: right;\n",
       "    }\n",
       "</style>\n",
       "<table border=\"1\" class=\"dataframe\">\n",
       "  <thead>\n",
       "    <tr style=\"text-align: right;\">\n",
       "      <th></th>\n",
       "      <th>CATEGORY</th>\n",
       "    </tr>\n",
       "  </thead>\n",
       "  <tbody>\n",
       "    <tr>\n",
       "      <th>count</th>\n",
       "      <td>58361.000000</td>\n",
       "    </tr>\n",
       "    <tr>\n",
       "      <th>mean</th>\n",
       "      <td>31.722280</td>\n",
       "    </tr>\n",
       "    <tr>\n",
       "      <th>std</th>\n",
       "      <td>59.649075</td>\n",
       "    </tr>\n",
       "    <tr>\n",
       "      <th>min</th>\n",
       "      <td>1.000000</td>\n",
       "    </tr>\n",
       "    <tr>\n",
       "      <th>25%</th>\n",
       "      <td>8.000000</td>\n",
       "    </tr>\n",
       "    <tr>\n",
       "      <th>50%</th>\n",
       "      <td>15.000000</td>\n",
       "    </tr>\n",
       "    <tr>\n",
       "      <th>75%</th>\n",
       "      <td>31.000000</td>\n",
       "    </tr>\n",
       "    <tr>\n",
       "      <th>max</th>\n",
       "      <td>1233.000000</td>\n",
       "    </tr>\n",
       "  </tbody>\n",
       "</table>\n",
       "</div>"
      ],
      "text/plain": [
       "           CATEGORY\n",
       "count  58361.000000\n",
       "mean      31.722280\n",
       "std       59.649075\n",
       "min        1.000000\n",
       "25%        8.000000\n",
       "50%       15.000000\n",
       "75%       31.000000\n",
       "max     1233.000000"
      ]
     },
     "execution_count": 34,
     "metadata": {},
     "output_type": "execute_result"
    }
   ],
   "source": [
    "NOTEEVENTS.groupby(['HADM_ID']).count().loc[:, ['CATEGORY']].describe()"
   ]
  },
  {
   "cell_type": "code",
   "execution_count": null,
   "metadata": {},
   "outputs": [],
   "source": [
    "adm_notes = pd.merge(MICROBIOLOGYEVENTS.loc[:,['SPEC_ITEMID', 'HADM_ID','CHARTTIME', 'SPEC_TYPE_DESC']], D_ITEMS.loc[:, ['ITEMID', 'LABEL', 'CATEGORY']], left_on='SPEC_ITEMID', right_on='ITEMID', how='inner')\n",
    "# total num of lab tests conducted per admission\n",
    "adm_notes.groupby(['HADM_ID']).count().describe()"
   ]
  },
  {
   "cell_type": "code",
   "execution_count": 85,
   "metadata": {},
   "outputs": [
    {
     "data": {
      "text/html": [
       "<div>\n",
       "<style scoped>\n",
       "    .dataframe tbody tr th:only-of-type {\n",
       "        vertical-align: middle;\n",
       "    }\n",
       "\n",
       "    .dataframe tbody tr th {\n",
       "        vertical-align: top;\n",
       "    }\n",
       "\n",
       "    .dataframe thead th {\n",
       "        text-align: right;\n",
       "    }\n",
       "</style>\n",
       "<table border=\"1\" class=\"dataframe\">\n",
       "  <thead>\n",
       "    <tr style=\"text-align: right;\">\n",
       "      <th></th>\n",
       "      <th>LABEL</th>\n",
       "    </tr>\n",
       "  </thead>\n",
       "  <tbody>\n",
       "    <tr>\n",
       "      <th>count</th>\n",
       "      <td>48740.000000</td>\n",
       "    </tr>\n",
       "    <tr>\n",
       "      <th>mean</th>\n",
       "      <td>12.959520</td>\n",
       "    </tr>\n",
       "    <tr>\n",
       "      <th>std</th>\n",
       "      <td>22.496631</td>\n",
       "    </tr>\n",
       "    <tr>\n",
       "      <th>min</th>\n",
       "      <td>1.000000</td>\n",
       "    </tr>\n",
       "    <tr>\n",
       "      <th>25%</th>\n",
       "      <td>1.000000</td>\n",
       "    </tr>\n",
       "    <tr>\n",
       "      <th>50%</th>\n",
       "      <td>4.000000</td>\n",
       "    </tr>\n",
       "    <tr>\n",
       "      <th>75%</th>\n",
       "      <td>15.000000</td>\n",
       "    </tr>\n",
       "    <tr>\n",
       "      <th>max</th>\n",
       "      <td>565.000000</td>\n",
       "    </tr>\n",
       "  </tbody>\n",
       "</table>\n",
       "</div>"
      ],
      "text/plain": [
       "              LABEL\n",
       "count  48740.000000\n",
       "mean      12.959520\n",
       "std       22.496631\n",
       "min        1.000000\n",
       "25%        1.000000\n",
       "50%        4.000000\n",
       "75%       15.000000\n",
       "max      565.000000"
      ]
     },
     "execution_count": 85,
     "metadata": {},
     "output_type": "execute_result"
    }
   ],
   "source": [
    "adm_micro = pd.merge(MICROBIOLOGYEVENTS.loc[:,['SPEC_ITEMID', 'HADM_ID','CHARTTIME', 'SPEC_TYPE_DESC']], D_ITEMS.loc[:, ['ITEMID', 'LABEL', 'CATEGORY']], left_on='SPEC_ITEMID', right_on='ITEMID', how='inner')\n",
    "# total num of lab tests conducted per admission\n",
    "adm_micro.groupby(['HADM_ID']).count().loc[:, ['LABEL']].describe()"
   ]
  },
  {
   "cell_type": "code",
   "execution_count": 40,
   "metadata": {},
   "outputs": [
    {
     "data": {
      "text/html": [
       "<div>\n",
       "<style scoped>\n",
       "    .dataframe tbody tr th:only-of-type {\n",
       "        vertical-align: middle;\n",
       "    }\n",
       "\n",
       "    .dataframe tbody tr th {\n",
       "        vertical-align: top;\n",
       "    }\n",
       "\n",
       "    .dataframe thead th {\n",
       "        text-align: right;\n",
       "    }\n",
       "</style>\n",
       "<table border=\"1\" class=\"dataframe\">\n",
       "  <thead>\n",
       "    <tr style=\"text-align: right;\">\n",
       "      <th></th>\n",
       "      <th>SPEC_ITEMID</th>\n",
       "      <th>HADM_ID</th>\n",
       "      <th>CHARTTIME</th>\n",
       "      <th>SPEC_TYPE_DESC</th>\n",
       "      <th>ITEMID</th>\n",
       "      <th>LABEL</th>\n",
       "      <th>CATEGORY</th>\n",
       "    </tr>\n",
       "  </thead>\n",
       "  <tbody>\n",
       "    <tr>\n",
       "      <th>0</th>\n",
       "      <td>70021.0</td>\n",
       "      <td>170324</td>\n",
       "      <td>2156-04-13 14:18:00</td>\n",
       "      <td>BRONCHOALVEOLAR LAVAGE</td>\n",
       "      <td>70021</td>\n",
       "      <td>BRONCHOALVEOLAR LAVAGE</td>\n",
       "      <td>SPECIMEN</td>\n",
       "    </tr>\n",
       "    <tr>\n",
       "      <th>1</th>\n",
       "      <td>70062.0</td>\n",
       "      <td>170324</td>\n",
       "      <td>2156-04-20 13:10:00</td>\n",
       "      <td>SPUTUM</td>\n",
       "      <td>70062</td>\n",
       "      <td>SPUTUM</td>\n",
       "      <td>SPECIMEN</td>\n",
       "    </tr>\n",
       "    <tr>\n",
       "      <th>2</th>\n",
       "      <td>70012.0</td>\n",
       "      <td>170324</td>\n",
       "      <td>2156-04-20 16:00:00</td>\n",
       "      <td>BLOOD CULTURE</td>\n",
       "      <td>70012</td>\n",
       "      <td>BLOOD CULTURE</td>\n",
       "      <td>SPECIMEN</td>\n",
       "    </tr>\n",
       "    <tr>\n",
       "      <th>3</th>\n",
       "      <td>70012.0</td>\n",
       "      <td>170324</td>\n",
       "      <td>NaN</td>\n",
       "      <td>BLOOD CULTURE</td>\n",
       "      <td>70012</td>\n",
       "      <td>BLOOD CULTURE</td>\n",
       "      <td>SPECIMEN</td>\n",
       "    </tr>\n",
       "    <tr>\n",
       "      <th>4</th>\n",
       "      <td>70079.0</td>\n",
       "      <td>170324</td>\n",
       "      <td>NaN</td>\n",
       "      <td>URINE</td>\n",
       "      <td>70079</td>\n",
       "      <td>URINE</td>\n",
       "      <td>SPECIMEN</td>\n",
       "    </tr>\n",
       "  </tbody>\n",
       "</table>\n",
       "</div>"
      ],
      "text/plain": [
       "   SPEC_ITEMID  HADM_ID            CHARTTIME          SPEC_TYPE_DESC  ITEMID  \\\n",
       "0      70021.0   170324  2156-04-13 14:18:00  BRONCHOALVEOLAR LAVAGE   70021   \n",
       "1      70062.0   170324  2156-04-20 13:10:00                  SPUTUM   70062   \n",
       "2      70012.0   170324  2156-04-20 16:00:00           BLOOD CULTURE   70012   \n",
       "3      70012.0   170324                  NaN           BLOOD CULTURE   70012   \n",
       "4      70079.0   170324                  NaN                   URINE   70079   \n",
       "\n",
       "                    LABEL  CATEGORY  \n",
       "0  BRONCHOALVEOLAR LAVAGE  SPECIMEN  \n",
       "1                  SPUTUM  SPECIMEN  \n",
       "2           BLOOD CULTURE  SPECIMEN  \n",
       "3           BLOOD CULTURE  SPECIMEN  \n",
       "4                   URINE  SPECIMEN  "
      ]
     },
     "execution_count": 40,
     "metadata": {},
     "output_type": "execute_result"
    }
   ],
   "source": [
    "adm_micro.head()"
   ]
  },
  {
   "cell_type": "code",
   "execution_count": 7,
   "metadata": {},
   "outputs": [
    {
     "data": {
      "text/plain": [
       "LABEL\n",
       "URINE                                 30542\n",
       "BLOOD CULTURE                         27513\n",
       "MRSA SCREEN                           21157\n",
       "SPUTUM                                13047\n",
       "STOOL                                 11082\n",
       "                                      ...  \n",
       "NOSE                                      2\n",
       "SWAB - R/O YEAST                          2\n",
       "NAIL SCRAPINGS                            2\n",
       "BLOOD BAG FLUID                           1\n",
       "Influenza A/B by DFA - Bronch Wash        1\n",
       "Length: 82, dtype: int64"
      ]
     },
     "execution_count": 7,
     "metadata": {},
     "output_type": "execute_result"
    }
   ],
   "source": [
    "# num of each lab test is performed during an admission\n",
    "micro_stat = adm_micro.groupby(['HADM_ID', 'LABEL']).size().groupby('LABEL')\n",
    "micro_stat.size().sort_values(ascending=False)"
   ]
  },
  {
   "cell_type": "code",
   "execution_count": 86,
   "metadata": {},
   "outputs": [
    {
     "name": "stdout",
     "output_type": "stream",
     "text": [
      "100532\n",
      "4741\n",
      "89664\n"
     ]
    },
    {
     "data": {
      "text/html": [
       "<div>\n",
       "<style scoped>\n",
       "    .dataframe tbody tr th:only-of-type {\n",
       "        vertical-align: middle;\n",
       "    }\n",
       "\n",
       "    .dataframe tbody tr th {\n",
       "        vertical-align: top;\n",
       "    }\n",
       "\n",
       "    .dataframe thead tr th {\n",
       "        text-align: left;\n",
       "    }\n",
       "\n",
       "    .dataframe thead tr:last-of-type th {\n",
       "        text-align: right;\n",
       "    }\n",
       "</style>\n",
       "<table border=\"1\" class=\"dataframe\">\n",
       "  <thead>\n",
       "    <tr>\n",
       "      <th></th>\n",
       "      <th colspan=\"8\" halign=\"left\">0</th>\n",
       "    </tr>\n",
       "    <tr>\n",
       "      <th></th>\n",
       "      <th>count</th>\n",
       "      <th>mean</th>\n",
       "      <th>std</th>\n",
       "      <th>min</th>\n",
       "      <th>25%</th>\n",
       "      <th>50%</th>\n",
       "      <th>75%</th>\n",
       "      <th>max</th>\n",
       "    </tr>\n",
       "    <tr>\n",
       "      <th>cutoff</th>\n",
       "      <th></th>\n",
       "      <th></th>\n",
       "      <th></th>\n",
       "      <th></th>\n",
       "      <th></th>\n",
       "      <th></th>\n",
       "      <th></th>\n",
       "      <th></th>\n",
       "    </tr>\n",
       "  </thead>\n",
       "  <tbody>\n",
       "    <tr>\n",
       "      <th>0</th>\n",
       "      <td>1093.0</td>\n",
       "      <td>17.891125</td>\n",
       "      <td>28.459727</td>\n",
       "      <td>1.0</td>\n",
       "      <td>2.0</td>\n",
       "      <td>7.0</td>\n",
       "      <td>23.0</td>\n",
       "      <td>340.0</td>\n",
       "    </tr>\n",
       "    <tr>\n",
       "      <th>2</th>\n",
       "      <td>5580.0</td>\n",
       "      <td>5.925448</td>\n",
       "      <td>8.191832</td>\n",
       "      <td>1.0</td>\n",
       "      <td>1.0</td>\n",
       "      <td>3.0</td>\n",
       "      <td>6.0</td>\n",
       "      <td>93.0</td>\n",
       "    </tr>\n",
       "    <tr>\n",
       "      <th>5</th>\n",
       "      <td>3197.0</td>\n",
       "      <td>4.822646</td>\n",
       "      <td>6.074744</td>\n",
       "      <td>1.0</td>\n",
       "      <td>1.0</td>\n",
       "      <td>3.0</td>\n",
       "      <td>5.0</td>\n",
       "      <td>77.0</td>\n",
       "    </tr>\n",
       "    <tr>\n",
       "      <th>13</th>\n",
       "      <td>2610.0</td>\n",
       "      <td>8.286207</td>\n",
       "      <td>10.710719</td>\n",
       "      <td>1.0</td>\n",
       "      <td>2.0</td>\n",
       "      <td>4.0</td>\n",
       "      <td>11.0</td>\n",
       "      <td>185.0</td>\n",
       "    </tr>\n",
       "  </tbody>\n",
       "</table>\n",
       "</div>"
      ],
      "text/plain": [
       "             0                                                  \n",
       "         count       mean        std  min  25%  50%   75%    max\n",
       "cutoff                                                          \n",
       "0       1093.0  17.891125  28.459727  1.0  2.0  7.0  23.0  340.0\n",
       "2       5580.0   5.925448   8.191832  1.0  1.0  3.0   6.0   93.0\n",
       "5       3197.0   4.822646   6.074744  1.0  1.0  3.0   5.0   77.0\n",
       "13      2610.0   8.286207  10.710719  1.0  2.0  4.0  11.0  185.0"
      ]
     },
     "execution_count": 86,
     "metadata": {},
     "output_type": "execute_result"
    }
   ],
   "source": [
    "adm_micro = adm_micro.merge(LABEL_SPLITS, on='HADM_ID', how='inner')\n",
    "adm_micro = adm_micro.loc[adm_micro['SPLIT_50'] == 'TRAIN']\n",
    "print(len(adm_micro))\n",
    "micro_time = adm_micro.merge(stay_info, on='HADM_ID', how='inner')\n",
    "micro_time = micro_time[(pd.to_datetime(micro_time['ADMITTIME']) < pd.to_datetime(micro_time['DISCHTIME'])) & (pd.to_datetime(micro_time['CHARTTIME']) < pd.to_datetime(micro_time['DISCHTIME']))]\n",
    "micro_time['PROP_ELAPSED'] = (pd.to_datetime(micro_time['CHARTTIME']) - pd.to_datetime(micro_time['ADMITTIME'])) / (pd.to_datetime(micro_time['DISCHTIME']) - pd.to_datetime(micro_time['ADMITTIME']))\n",
    "print(len(micro_time[micro_time['PROP_ELAPSED'] < 0]))\n",
    "micro_time.loc[micro_time['PROP_ELAPSED'] < 0, 'PROP_ELAPSED'] = 0\n",
    "print(len(micro_time))\n",
    "\n",
    "micro_time['TIME_ELAPSED'] = (pd.to_datetime(micro_time['CHARTTIME']) - pd.to_datetime(micro_time['ADMITTIME'])).clip(lower=pd.Timedelta(0))\n",
    "micro_time[\"HOURS_ELAPSED\"] = micro_time[\"TIME_ELAPSED\"].dt.total_seconds() / 3600.0\n",
    "\n",
    "\n",
    "micro_time[\"cutoff\"] = vectorized_hour_to_cutoff(micro_time[\"HOURS_ELAPSED\"])\n",
    "micro_time.groupby(['HADM_ID', 'cutoff']).size().reset_index().groupby('cutoff')[[0]].describe()"
   ]
  },
  {
   "cell_type": "code",
   "execution_count": 19,
   "metadata": {},
   "outputs": [
    {
     "name": "stdout",
     "output_type": "stream",
     "text": [
      "631647\n",
      "57194\n",
      "589194\n"
     ]
    }
   ],
   "source": [
    "print(len(adm_micro))\n",
    "micro_time = adm_micro.merge(stay_info, on='HADM_ID', how='inner')\n",
    "micro_time = micro_time[(pd.to_datetime(micro_time['ADMITTIME']) < pd.to_datetime(micro_time['DISCHTIME'])) & (pd.to_datetime(micro_time['CHARTTIME']) < pd.to_datetime(micro_time['DISCHTIME']))]\n",
    "micro_time['PROP_ELAPSED'] = (pd.to_datetime(micro_time['CHARTTIME']) - pd.to_datetime(micro_time['ADMITTIME'])) / (pd.to_datetime(micro_time['DISCHTIME']) - pd.to_datetime(micro_time['ADMITTIME']))\n",
    "print(len(micro_time[micro_time['PROP_ELAPSED'] < 0]))\n",
    "micro_time.loc[micro_time['PROP_ELAPSED'] < 0, 'PROP_ELAPSED'] = 0\n",
    "print(len(micro_time))"
   ]
  },
  {
   "cell_type": "code",
   "execution_count": 21,
   "metadata": {},
   "outputs": [
    {
     "data": {
      "image/png": "[encoded data removed]",
      "text/plain": [
       "<Figure size 640x480 with 1 Axes>"
      ]
     },
     "metadata": {},
     "output_type": "display_data"
    }
   ],
   "source": [
    "sns.set_theme()\n",
    "plt.hist(micro_time['PROP_ELAPSED'], alpha=0.5, bins=20)\n",
    "plt.xlabel('Proportion of stay elapsed')\n",
    "plt.ylabel('Number of microbiology tests')\n",
    "plt.title('Distribution of microbiology tests over stay duration')\n",
    "plt.show()"
   ]
  },
  {
   "cell_type": "code",
   "execution_count": 48,
   "metadata": {},
   "outputs": [
    {
     "data": {
      "image/png": "[encoded data removed]",
      "text/plain": [
       "<Figure size 1000x800 with 6 Axes>"
      ]
     },
     "metadata": {},
     "output_type": "display_data"
    }
   ],
   "source": [
    "sns.set_theme()\n",
    "top5_lab = ['URINE', 'BLOOD CULTURE', 'MRSA SCREEN', 'SPUTUM', 'STOOL']\n",
    "colors = ['#FF5733', '#3498DB', '#27AE60', '#F39C12', '#9B59B6']\n",
    "fig, axs = plt.subplots(3, 2, figsize=(10,8), sharex=True, sharey=True)  # 2 rows, 2 columns\n",
    "plt.subplots_adjust(hspace=0.5)\n",
    "for i in range(5):\n",
    "    row = i // 2\n",
    "    col = i % 2\n",
    "    ax = axs[row, col]\n",
    "\n",
    "    ax.hist(micro_time[micro_time['LABEL'] == top5_lab[i]]['PROP_ELAPSED'], density=True, bins=20, alpha=0.5, color=colors[i], label=top5_lab[i])\n",
    "    ax.set_title(f'{top5_lab[i]}')\n",
    "\n",
    "axs[-1, -1].hist(micro_time['PROP_ELAPSED'], alpha=0.5, bins=20, density=True, color='black')\n",
    "axs[-1, -1].set_title('All tests')\n",
    "fig.text(0.5, 0.04, 'Proportion of stay elapsed', ha='center')\n",
    "fig.text(0.04, 0.5, 'Frequency', va='center', rotation='vertical')\n",
    "plt.suptitle('Distribution of top 5 microbiology tests over hospital stay')\n",
    "plt.show()"
   ]
  },
  {
   "cell_type": "code",
   "execution_count": 39,
   "metadata": {},
   "outputs": [
    {
     "data": {
      "text/plain": [
       "81.40622480245122"
      ]
     },
     "execution_count": 39,
     "metadata": {},
     "output_type": "execute_result"
    }
   ],
   "source": [
    "len(list((collections.Counter(micro_time['HADM_ID'].unique()) & collections.Counter(notes_time['HADM_ID'].unique())).elements()))/len(notes_time['HADM_ID'].unique()) * 100"
   ]
  },
  {
   "cell_type": "code",
   "execution_count": 21,
   "metadata": {},
   "outputs": [
    {
     "data": {
      "image/png": "[encoded data removed]",
      "text/plain": [
       "<Figure size 640x480 with 1 Axes>"
      ]
     },
     "metadata": {},
     "output_type": "display_data"
    }
   ],
   "source": [
    "sns.set_theme()\n",
    "plt.hist(micro_time['PROP_ELAPSED'], bins=20, alpha=0.5, color='blue', label='microbio')\n",
    "plt.hist(notes_time['PROP_ELAPSED'], bins=20, alpha=0.5, color='red', label='notes')\n",
    "plt.xlabel('Proportion of stay elapsed')\n",
    "plt.ylabel('Count')\n",
    "plt.legend(title='Data source')\n",
    "plt.title('Distribution of data sources over hospital stay')\n",
    "plt.show()"
   ]
  },
  {
   "cell_type": "code",
   "execution_count": 20,
   "metadata": {},
   "outputs": [
    {
     "data": {
      "image/png": "[encoded data removed]",
      "text/plain": [
       "<Figure size 640x480 with 1 Axes>"
      ]
     },
     "metadata": {},
     "output_type": "display_data"
    }
   ],
   "source": [
    "sns.set_theme()\n",
    "plt.hist(micro_time['PROP_ELAPSED'], density=True, bins=20, alpha=0.5, color='blue', label='microbio')\n",
    "plt.hist(notes_time['PROP_ELAPSED'], density=True, bins=20, alpha=0.5, color='red', label='notes')\n",
    "plt.xlabel('Proportion of stay elapsed')\n",
    "plt.ylabel('Frequency')\n",
    "plt.legend(title='Data source')\n",
    "plt.title('Distribution of data sources over hospital stay')\n",
    "plt.show()"
   ]
  },
  {
   "cell_type": "code",
   "execution_count": 25,
   "metadata": {},
   "outputs": [
    {
     "data": {
      "image/png": "[encoded data removed]",
      "text/plain": [
       "<Figure size 640x480 with 1 Axes>"
      ]
     },
     "metadata": {},
     "output_type": "display_data"
    }
   ],
   "source": [
    "sns.set_theme()\n",
    "plt.hist(micro_time['PROP_ELAPSED'], weights=np.zeros_like(micro_time['PROP_ELAPSED']) + 1. / micro_time['PROP_ELAPSED'].size, bins=20, alpha=0.5, color='blue', label='microbio')\n",
    "plt.hist(notes_time['PROP_ELAPSED'], weights=np.zeros_like(notes_time['PROP_ELAPSED']) + 1. / notes_time['PROP_ELAPSED'].size, bins=20, alpha=0.5, color='red', label='notes')\n",
    "plt.xlim(0,1)\n",
    "plt.xlabel('Proportion of stay elapsed')\n",
    "plt.ylabel('Frequency')\n",
    "plt.legend(title='Data source')\n",
    "plt.title('Distribution of data sources over hospital stay')\n",
    "plt.show()"
   ]
  },
  {
   "cell_type": "markdown",
   "metadata": {},
   "source": [
    "# Mimic IV"
   ]
  },
  {
   "cell_type": "code",
   "execution_count": 51,
   "metadata": {},
   "outputs": [],
   "source": [
    "dataset_path = os.path.join(project_path, 'mimiciv/hosp')"
   ]
  },
  {
   "cell_type": "code",
   "execution_count": 52,
   "metadata": {},
   "outputs": [],
   "source": [
    "PATIENTS = pd.read_csv(os.path.join(dataset_path,\"patients.csv\"))\n",
    "CXR = pd.read_csv(os.path.join(dataset_path,\"cxr-record-list.csv\"))"
   ]
  },
  {
   "cell_type": "code",
   "execution_count": 53,
   "metadata": {},
   "outputs": [
    {
     "data": {
      "text/html": [
       "<div>\n",
       "<style scoped>\n",
       "    .dataframe tbody tr th:only-of-type {\n",
       "        vertical-align: middle;\n",
       "    }\n",
       "\n",
       "    .dataframe tbody tr th {\n",
       "        vertical-align: top;\n",
       "    }\n",
       "\n",
       "    .dataframe thead th {\n",
       "        text-align: right;\n",
       "    }\n",
       "</style>\n",
       "<table border=\"1\" class=\"dataframe\">\n",
       "  <thead>\n",
       "    <tr style=\"text-align: right;\">\n",
       "      <th></th>\n",
       "      <th>subject_id</th>\n",
       "      <th>gender</th>\n",
       "      <th>anchor_age</th>\n",
       "      <th>anchor_year</th>\n",
       "      <th>anchor_year_group</th>\n",
       "      <th>dod</th>\n",
       "    </tr>\n",
       "  </thead>\n",
       "  <tbody>\n",
       "    <tr>\n",
       "      <th>0</th>\n",
       "      <td>10000032</td>\n",
       "      <td>F</td>\n",
       "      <td>52</td>\n",
       "      <td>2180</td>\n",
       "      <td>2014 - 2016</td>\n",
       "      <td>2180-09-09</td>\n",
       "    </tr>\n",
       "    <tr>\n",
       "      <th>1</th>\n",
       "      <td>10000048</td>\n",
       "      <td>F</td>\n",
       "      <td>23</td>\n",
       "      <td>2126</td>\n",
       "      <td>2008 - 2010</td>\n",
       "      <td>NaN</td>\n",
       "    </tr>\n",
       "    <tr>\n",
       "      <th>2</th>\n",
       "      <td>10000068</td>\n",
       "      <td>F</td>\n",
       "      <td>19</td>\n",
       "      <td>2160</td>\n",
       "      <td>2008 - 2010</td>\n",
       "      <td>NaN</td>\n",
       "    </tr>\n",
       "    <tr>\n",
       "      <th>3</th>\n",
       "      <td>10000084</td>\n",
       "      <td>M</td>\n",
       "      <td>72</td>\n",
       "      <td>2160</td>\n",
       "      <td>2017 - 2019</td>\n",
       "      <td>2161-02-13</td>\n",
       "    </tr>\n",
       "    <tr>\n",
       "      <th>4</th>\n",
       "      <td>10000102</td>\n",
       "      <td>F</td>\n",
       "      <td>27</td>\n",
       "      <td>2136</td>\n",
       "      <td>2008 - 2010</td>\n",
       "      <td>NaN</td>\n",
       "    </tr>\n",
       "  </tbody>\n",
       "</table>\n",
       "</div>"
      ],
      "text/plain": [
       "   subject_id gender  anchor_age  anchor_year anchor_year_group         dod\n",
       "0    10000032      F          52         2180       2014 - 2016  2180-09-09\n",
       "1    10000048      F          23         2126       2008 - 2010         NaN\n",
       "2    10000068      F          19         2160       2008 - 2010         NaN\n",
       "3    10000084      M          72         2160       2017 - 2019  2161-02-13\n",
       "4    10000102      F          27         2136       2008 - 2010         NaN"
      ]
     },
     "execution_count": 53,
     "metadata": {},
     "output_type": "execute_result"
    }
   ],
   "source": [
    "PATIENTS.head()"
   ]
  },
  {
   "cell_type": "code",
   "execution_count": 54,
   "metadata": {},
   "outputs": [
    {
     "data": {
      "text/html": [
       "<div>\n",
       "<style scoped>\n",
       "    .dataframe tbody tr th:only-of-type {\n",
       "        vertical-align: middle;\n",
       "    }\n",
       "\n",
       "    .dataframe tbody tr th {\n",
       "        vertical-align: top;\n",
       "    }\n",
       "\n",
       "    .dataframe thead th {\n",
       "        text-align: right;\n",
       "    }\n",
       "</style>\n",
       "<table border=\"1\" class=\"dataframe\">\n",
       "  <thead>\n",
       "    <tr style=\"text-align: right;\">\n",
       "      <th></th>\n",
       "      <th>subject_id</th>\n",
       "      <th>study_id</th>\n",
       "      <th>dicom_id</th>\n",
       "      <th>path</th>\n",
       "    </tr>\n",
       "  </thead>\n",
       "  <tbody>\n",
       "    <tr>\n",
       "      <th>0</th>\n",
       "      <td>10000032</td>\n",
       "      <td>50414267</td>\n",
       "      <td>02aa804e-bde0afdd-112c0b34-7bc16630-4e384014</td>\n",
       "      <td>files/p10/p10000032/s50414267/02aa804e-bde0afd...</td>\n",
       "    </tr>\n",
       "    <tr>\n",
       "      <th>1</th>\n",
       "      <td>10000032</td>\n",
       "      <td>50414267</td>\n",
       "      <td>174413ec-4ec4c1f7-34ea26b7-c5f994f8-79ef1962</td>\n",
       "      <td>files/p10/p10000032/s50414267/174413ec-4ec4c1f...</td>\n",
       "    </tr>\n",
       "    <tr>\n",
       "      <th>2</th>\n",
       "      <td>10000032</td>\n",
       "      <td>53189527</td>\n",
       "      <td>2a2277a9-b0ded155-c0de8eb9-c124d10e-82c5caab</td>\n",
       "      <td>files/p10/p10000032/s53189527/2a2277a9-b0ded15...</td>\n",
       "    </tr>\n",
       "    <tr>\n",
       "      <th>3</th>\n",
       "      <td>10000032</td>\n",
       "      <td>53189527</td>\n",
       "      <td>e084de3b-be89b11e-20fe3f9f-9c8d8dfe-4cfd202c</td>\n",
       "      <td>files/p10/p10000032/s53189527/e084de3b-be89b11...</td>\n",
       "    </tr>\n",
       "    <tr>\n",
       "      <th>4</th>\n",
       "      <td>10000032</td>\n",
       "      <td>53911762</td>\n",
       "      <td>68b5c4b1-227d0485-9cc38c3f-7b84ab51-4b472714</td>\n",
       "      <td>files/p10/p10000032/s53911762/68b5c4b1-227d048...</td>\n",
       "    </tr>\n",
       "  </tbody>\n",
       "</table>\n",
       "</div>"
      ],
      "text/plain": [
       "   subject_id  study_id                                      dicom_id  \\\n",
       "0    10000032  50414267  02aa804e-bde0afdd-112c0b34-7bc16630-4e384014   \n",
       "1    10000032  50414267  174413ec-4ec4c1f7-34ea26b7-c5f994f8-79ef1962   \n",
       "2    10000032  53189527  2a2277a9-b0ded155-c0de8eb9-c124d10e-82c5caab   \n",
       "3    10000032  53189527  e084de3b-be89b11e-20fe3f9f-9c8d8dfe-4cfd202c   \n",
       "4    10000032  53911762  68b5c4b1-227d0485-9cc38c3f-7b84ab51-4b472714   \n",
       "\n",
       "                                                path  \n",
       "0  files/p10/p10000032/s50414267/02aa804e-bde0afd...  \n",
       "1  files/p10/p10000032/s50414267/174413ec-4ec4c1f...  \n",
       "2  files/p10/p10000032/s53189527/2a2277a9-b0ded15...  \n",
       "3  files/p10/p10000032/s53189527/e084de3b-be89b11...  \n",
       "4  files/p10/p10000032/s53911762/68b5c4b1-227d048...  "
      ]
     },
     "execution_count": 54,
     "metadata": {},
     "output_type": "execute_result"
    }
   ],
   "source": [
    "CXR.head()"
   ]
  },
  {
   "cell_type": "code",
   "execution_count": 55,
   "metadata": {},
   "outputs": [
    {
     "data": {
      "text/plain": [
       "20.644151718983558"
      ]
     },
     "execution_count": 55,
     "metadata": {},
     "output_type": "execute_result"
    }
   ],
   "source": [
    "len(list((collections.Counter(CXR['subject_id'].unique()) & collections.Counter(PATIENTS['subject_id'].unique())).elements()))/len(PATIENTS['subject_id'].unique()) * 100"
   ]
  },
  {
   "cell_type": "code",
   "execution_count": 57,
   "metadata": {},
   "outputs": [
    {
     "data": {
      "text/plain": [
       "65379"
      ]
     },
     "execution_count": 57,
     "metadata": {},
     "output_type": "execute_result"
    }
   ],
   "source": [
    "CXR['subject_id'].nunique()"
   ]
  },
  {
   "cell_type": "code",
   "execution_count": 56,
   "metadata": {},
   "outputs": [
    {
     "data": {
      "text/html": [
       "<div>\n",
       "<style scoped>\n",
       "    .dataframe tbody tr th:only-of-type {\n",
       "        vertical-align: middle;\n",
       "    }\n",
       "\n",
       "    .dataframe tbody tr th {\n",
       "        vertical-align: top;\n",
       "    }\n",
       "\n",
       "    .dataframe thead th {\n",
       "        text-align: right;\n",
       "    }\n",
       "</style>\n",
       "<table border=\"1\" class=\"dataframe\">\n",
       "  <thead>\n",
       "    <tr style=\"text-align: right;\">\n",
       "      <th></th>\n",
       "      <th>study_id</th>\n",
       "    </tr>\n",
       "  </thead>\n",
       "  <tbody>\n",
       "    <tr>\n",
       "      <th>count</th>\n",
       "      <td>65379.000000</td>\n",
       "    </tr>\n",
       "    <tr>\n",
       "      <th>mean</th>\n",
       "      <td>5.768060</td>\n",
       "    </tr>\n",
       "    <tr>\n",
       "      <th>std</th>\n",
       "      <td>8.069605</td>\n",
       "    </tr>\n",
       "    <tr>\n",
       "      <th>min</th>\n",
       "      <td>1.000000</td>\n",
       "    </tr>\n",
       "    <tr>\n",
       "      <th>25%</th>\n",
       "      <td>2.000000</td>\n",
       "    </tr>\n",
       "    <tr>\n",
       "      <th>50%</th>\n",
       "      <td>3.000000</td>\n",
       "    </tr>\n",
       "    <tr>\n",
       "      <th>75%</th>\n",
       "      <td>6.000000</td>\n",
       "    </tr>\n",
       "    <tr>\n",
       "      <th>max</th>\n",
       "      <td>174.000000</td>\n",
       "    </tr>\n",
       "  </tbody>\n",
       "</table>\n",
       "</div>"
      ],
      "text/plain": [
       "           study_id\n",
       "count  65379.000000\n",
       "mean       5.768060\n",
       "std        8.069605\n",
       "min        1.000000\n",
       "25%        2.000000\n",
       "50%        3.000000\n",
       "75%        6.000000\n",
       "max      174.000000"
      ]
     },
     "execution_count": 56,
     "metadata": {},
     "output_type": "execute_result"
    }
   ],
   "source": [
    "# get number of studies conducted per patient\n",
    "CXR.groupby(['subject_id']).count().loc[:, ['study_id']].describe()"
   ]
  },
  {
   "cell_type": "code",
   "execution_count": 26,
   "metadata": {},
   "outputs": [
    {
     "ename": "",
     "evalue": "",
     "output_type": "error",
     "traceback": [
      "\u001b[1;31mThe Kernel crashed while executing code in the current cell or a previous cell. \n",
      "\u001b[1;31mPlease review the code in the cell(s) to identify a possible cause of the failure. \n",
      "\u001b[1;31mClick <a href='https://aka.ms/vscodeJupyterKernelCrash'>here</a> for more info. \n",
      "\u001b[1;31mView Jupyter <a href='command:jupyter.viewOutput'>log</a> for further details."
     ]
    }
   ],
   "source": [
    "# LABEL_SPLITS = pd.read_csv(os.path.join(dataset_path,\"LABEL_SPLITS.csv\"), dtype={\"ICD9_CODE\": str})\n",
    "# NOTEEVENTS = pd.read_csv(os.path.join(dataset_path,\"NOTEEVENTS.csv\"))\n",
    "# LABEVENTS = pd.read_csv(os.path.join(dataset_path,\"labevents.csv\"))\n",
    "# OUTPUTEVENTS = pd.read_csv(os.path.join(dataset_path,\"OUTPUTEVENTS.csv\"))\n",
    "# CHARTEVENTS = pd.read_csv(os.path.join(dataset_path,\"CHARTEVENTS.csv\"))\n",
    "# CPTEVENTS = pd.read_csv(os.path.join(dataset_path,\"CPTEVENTS.csv\"))\n",
    "# MICROBIOLOGYEVENTS = pd.read_csv(os.path.join(dataset_path,\"MICROBIOLOGYEVENTS.csv\"))"
   ]
  },
  {
   "cell_type": "markdown",
   "metadata": {},
   "source": [
    "## Lab Tests\n",
    "### Summary statistics"
   ]
  },
  {
   "cell_type": "code",
   "execution_count": null,
   "metadata": {},
   "outputs": [],
   "source": [
    "D_LABITEMS = pd.read_csv(os.path.join(dataset_path,\"d_labitems.csv\"))"
   ]
  },
  {
   "cell_type": "code",
   "execution_count": null,
   "metadata": {},
   "outputs": [],
   "source": [
    "adm_lab = LABEVENTS.merge(D_LABITEMS.loc[:, ['ITEMID', 'LABEL', 'CATEGORY']], on='ITEMID', how='inner').loc[:, ['HADM_ID', 'LABEL', 'CATEGORY', 'CHARTTIME']]\n",
    "adm_lab = adm_lab.merge(LABEL_SPLITS, on='HADM_ID', how='inner')"
   ]
  },
  {
   "cell_type": "markdown",
   "metadata": {},
   "source": [
    "### Mapping with time elapsed"
   ]
  },
  {
   "cell_type": "markdown",
   "metadata": {},
   "source": []
  }
 ],
 "metadata": {
  "kernelspec": {
   "display_name": ".venv",
   "language": "python",
   "name": "python3"
  },
  "language_info": {
   "codemirror_mode": {
    "name": "ipython",
    "version": 3
   },
   "file_extension": ".py",
   "mimetype": "text/x-python",
   "name": "python",
   "nbconvert_exporter": "python",
   "pygments_lexer": "ipython3",
   "version": "3.10.13"
  }
 },
 "nbformat": 4,
 "nbformat_minor": 2
}
